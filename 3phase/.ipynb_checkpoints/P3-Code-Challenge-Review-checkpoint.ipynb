{
 "cells": [
  {
   "cell_type": "markdown",
   "metadata": {},
   "source": [
    "# Phase 3 Code Challenge Review\n",
    "\n",
    "Made using resources from the Seattle team - thanks y'all."
   ]
  },
  {
   "cell_type": "markdown",
   "metadata": {},
   "source": [
    "## Overview\n",
    "\n",
    "* Gradient Descent\n",
    "* Logistic Regression\n",
    "* Classification Metrics\n",
    "* Decision Trees"
   ]
  },
  {
   "cell_type": "code",
   "execution_count": 1,
   "metadata": {},
   "outputs": [],
   "source": [
    "# Imports\n",
    "import pandas as pd\n",
    "import numpy as np\n",
    "\n",
    "import matplotlib.pyplot as plt\n",
    "import seaborn as sns\n",
    "\n",
    "from sklearn.preprocessing import StandardScaler\n",
    "from sklearn.linear_model import LogisticRegression\n",
    "from sklearn.tree import DecisionTreeClassifier, plot_tree\n",
    "from sklearn.model_selection import train_test_split\n",
    "from sklearn.metrics import accuracy_score, recall_score, precision_score, f1_score\n",
    "from sklearn.metrics import plot_confusion_matrix\n",
    "from sklearn.metrics import roc_auc_score, plot_roc_curve"
   ]
  },
  {
   "cell_type": "code",
   "execution_count": null,
   "metadata": {},
   "outputs": [],
   "source": [
    "# from src.call import call_on_students"
   ]
  },
  {
   "cell_type": "markdown",
   "metadata": {},
   "source": [
    "## Part 1: Gradient Descent"
   ]
  },
  {
   "cell_type": "markdown",
   "metadata": {},
   "source": [
    "### Set Up"
   ]
  },
  {
   "cell_type": "code",
   "execution_count": 2,
   "metadata": {},
   "outputs": [],
   "source": [
    "# Grab the data from 'auto-mpg.csv'\n",
    "mpg_df = pd.read_csv(\"data/auto-mpg.csv\")"
   ]
  },
  {
   "cell_type": "code",
   "execution_count": 3,
   "metadata": {},
   "outputs": [
    {
     "data": {
      "text/html": [
       "<div>\n",
       "<style scoped>\n",
       "    .dataframe tbody tr th:only-of-type {\n",
       "        vertical-align: middle;\n",
       "    }\n",
       "\n",
       "    .dataframe tbody tr th {\n",
       "        vertical-align: top;\n",
       "    }\n",
       "\n",
       "    .dataframe thead th {\n",
       "        text-align: right;\n",
       "    }\n",
       "</style>\n",
       "<table border=\"1\" class=\"dataframe\">\n",
       "  <thead>\n",
       "    <tr style=\"text-align: right;\">\n",
       "      <th></th>\n",
       "      <th>mpg</th>\n",
       "      <th>cylinders</th>\n",
       "      <th>displacement</th>\n",
       "      <th>horsepower</th>\n",
       "      <th>weight</th>\n",
       "      <th>acceleration</th>\n",
       "      <th>model year</th>\n",
       "      <th>origin</th>\n",
       "      <th>car name</th>\n",
       "    </tr>\n",
       "  </thead>\n",
       "  <tbody>\n",
       "    <tr>\n",
       "      <th>0</th>\n",
       "      <td>18.0</td>\n",
       "      <td>8</td>\n",
       "      <td>307.0</td>\n",
       "      <td>130</td>\n",
       "      <td>3504</td>\n",
       "      <td>12.0</td>\n",
       "      <td>70</td>\n",
       "      <td>1</td>\n",
       "      <td>chevrolet chevelle malibu</td>\n",
       "    </tr>\n",
       "    <tr>\n",
       "      <th>1</th>\n",
       "      <td>15.0</td>\n",
       "      <td>8</td>\n",
       "      <td>350.0</td>\n",
       "      <td>165</td>\n",
       "      <td>3693</td>\n",
       "      <td>11.5</td>\n",
       "      <td>70</td>\n",
       "      <td>1</td>\n",
       "      <td>buick skylark 320</td>\n",
       "    </tr>\n",
       "    <tr>\n",
       "      <th>2</th>\n",
       "      <td>18.0</td>\n",
       "      <td>8</td>\n",
       "      <td>318.0</td>\n",
       "      <td>150</td>\n",
       "      <td>3436</td>\n",
       "      <td>11.0</td>\n",
       "      <td>70</td>\n",
       "      <td>1</td>\n",
       "      <td>plymouth satellite</td>\n",
       "    </tr>\n",
       "    <tr>\n",
       "      <th>3</th>\n",
       "      <td>16.0</td>\n",
       "      <td>8</td>\n",
       "      <td>304.0</td>\n",
       "      <td>150</td>\n",
       "      <td>3433</td>\n",
       "      <td>12.0</td>\n",
       "      <td>70</td>\n",
       "      <td>1</td>\n",
       "      <td>amc rebel sst</td>\n",
       "    </tr>\n",
       "    <tr>\n",
       "      <th>4</th>\n",
       "      <td>17.0</td>\n",
       "      <td>8</td>\n",
       "      <td>302.0</td>\n",
       "      <td>140</td>\n",
       "      <td>3449</td>\n",
       "      <td>10.5</td>\n",
       "      <td>70</td>\n",
       "      <td>1</td>\n",
       "      <td>ford torino</td>\n",
       "    </tr>\n",
       "  </tbody>\n",
       "</table>\n",
       "</div>"
      ],
      "text/plain": [
       "    mpg  cylinders  displacement  horsepower  weight  acceleration  \\\n",
       "0  18.0          8         307.0         130    3504          12.0   \n",
       "1  15.0          8         350.0         165    3693          11.5   \n",
       "2  18.0          8         318.0         150    3436          11.0   \n",
       "3  16.0          8         304.0         150    3433          12.0   \n",
       "4  17.0          8         302.0         140    3449          10.5   \n",
       "\n",
       "   model year  origin                   car name  \n",
       "0          70       1  chevrolet chevelle malibu  \n",
       "1          70       1          buick skylark 320  \n",
       "2          70       1         plymouth satellite  \n",
       "3          70       1              amc rebel sst  \n",
       "4          70       1                ford torino  "
      ]
     },
     "execution_count": 3,
     "metadata": {},
     "output_type": "execute_result"
    }
   ],
   "source": [
    "# Explore the data\n",
    "mpg_df.head()"
   ]
  },
  {
   "cell_type": "code",
   "execution_count": 4,
   "metadata": {},
   "outputs": [
    {
     "data": {
      "image/png": "[encoded data removed]",
      "text/plain": [
       "<Figure size 576x432 with 1 Axes>"
      ]
     },
     "metadata": {
      "needs_background": "light"
     },
     "output_type": "display_data"
    }
   ],
   "source": [
    "# Let's plot a simple linear regression line using just the horsepower column\n",
    "plt.figure(figsize=(8, 6))\n",
    "sns.regplot(x='horsepower', y='mpg', data=mpg_df, line_kws={\"color\":\"orange\"})\n",
    "plt.title('Relationship Between Horsepower and MPG')\n",
    "plt.xlim(0, 250)\n",
    "plt.show()"
   ]
  },
  {
   "cell_type": "markdown",
   "metadata": {},
   "source": [
    "The above graph shows an approximate best fit line for the relationship between `horsepower` and `mpg` in our data.\n"
   ]
  },
  {
   "cell_type": "markdown",
   "metadata": {},
   "source": [
    "### 1) Describe the below chart: What is it showing? What does it tell us?\n",
    "\n",
    "![Slope-RSS relationship image](images/slope-rss-relationship.png)"
   ]
  },
  {
   "cell_type": "code",
   "execution_count": null,
   "metadata": {},
   "outputs": [],
   "source": [
    "# call_on_students(1)\n",
    "\n",
    "#Shows that the minimum in center indicates the optimal slope that minimizes the RSS"
   ]
  },
  {
   "cell_type": "markdown",
   "metadata": {},
   "source": [
    "#### Answer: \n",
    "\n",
    "- Shows the RSS as the slope changes.\n",
    "- Minimum of the curve is the slop to use (reduces error the most)\n"
   ]
  },
  {
   "cell_type": "markdown",
   "metadata": {},
   "source": [
    "### 2) Imagine that you're starting at a slope towards the top upper left corner. Using Zoom's annotate feature, demonstrate how gradient descent would work "
   ]
  },
  {
   "cell_type": "code",
   "execution_count": 5,
   "metadata": {},
   "outputs": [],
   "source": [
    "# call_on_students(1)\n",
    "#Select a point and calculate the slope. Then step in and do the same. Continue until you reach the minimum. \n",
    "\n",
    "#gradient descent starts at an arbitrary point and follows the slope to find the minimum point."
   ]
  },
  {
   "cell_type": "markdown",
   "metadata": {},
   "source": [
    "### 3) What is a step size when talking about gradient descent? How does learning rate regulate step size?"
   ]
  },
  {
   "cell_type": "code",
   "execution_count": null,
   "metadata": {},
   "outputs": [],
   "source": [
    "# call_on_students(1)\n",
    "#Learning rate is a hyperparameter and its selection will depend on the problem\n",
    "\n"
   ]
  },
  {
   "cell_type": "markdown",
   "metadata": {},
   "source": [
    "#### Answer: \n",
    "\n",
    "- A Step = traveling down the curve\n",
    "- Finding out the step size = slope of the dirivative\n",
    "- Step size is the derivative of the function\n",
    "- Learning rate controls how big a step size is \n",
    "\n",
    "official\n",
    "- Step size is the partial derivative of the function\n",
    "- Learning rate is the amopunt of step size to actually take.\n"
   ]
  },
  {
   "cell_type": "markdown",
   "metadata": {},
   "source": [
    "## Part 2: Logistic Regression"
   ]
  },
  {
   "cell_type": "markdown",
   "metadata": {},
   "source": [
    "### 4) Describe a logistic regression model:\n",
    "\n",
    "- What kind of target is a logistic regression model used for?\n",
    "\n",
    "classification model\n",
    "\n",
    "- What are the predictions that a logistic regression model outputs?\n",
    "\n",
    "Class output 0 or 1 if binary classification\n",
    "\n",
    "- How is it different from linear regression?\n",
    "Linear is continous, logistic uses logit function to derive class probabilities\n",
    "\n",
    "- Is it a parametric or non-parametric model?\n",
    "\n",
    "It is a parametric model\n"
   ]
  },
  {
   "cell_type": "code",
   "execution_count": null,
   "metadata": {},
   "outputs": [],
   "source": [
    "# call_on_students(1)\n",
    "\n"
   ]
  },
  {
   "cell_type": "markdown",
   "metadata": {},
   "source": [
    "#### Answer: \n",
    "\n",
    "- What kind of target is a logistic regression model used for?\n",
    "\n",
    "A continious target variable\n",
    "\n",
    "- What are the predictions that a logistic regression model outputs?\n",
    "\n",
    "the estimated probability that the data is in one class or another\n",
    "\n",
    "- How is it different from linear regression?\n",
    "\n",
    "Linear regression has a linear relationship between the predictors and target\n",
    "\n",
    "Logistic regression outputs the estimated probability of that data being in a class or not\n",
    "\n",
    "- Is it a parametric or non-parametric model?\n",
    "This is a parametric model unlike decision tree\n"
   ]
  },
  {
   "cell_type": "markdown",
   "metadata": {},
   "source": [
    "### 5) Compare a logistic regression model to any of the other model types we've learned:\n",
    "\n",
    "- List one benefit of logistic regression when compared to the other model type\n",
    "- List one reason the other model type might be more useful"
   ]
  },
  {
   "cell_type": "code",
   "execution_count": 6,
   "metadata": {},
   "outputs": [],
   "source": [
    "# call_on_students(1)"
   ]
  },
  {
   "cell_type": "markdown",
   "metadata": {},
   "source": [
    "#### Answer: \n",
    "\n",
    "- List one benefit of logistic regression when compared to the other model type\n",
    "\n",
    "Benifet of logistic regression over decision tree is is easier to interpret the coefficients that indicate magneitude and direction\n",
    "\n",
    "Less likley to overfit\n",
    "\n",
    "- List one reason the other model type might be more useful\n",
    "\n",
    "Decision trees are better in capturing complex interactions and handling diverse data patterns.\n",
    "\n",
    "\n",
    "\n",
    "\n",
    "\n",
    "- Logreg+: white box, more explainable, less lekley to overfit, handles imbalanced data much better \n",
    "- tree +: lower bias, better with non linear data, easy to explain/chart, doesn't care about data prep\n",
    "\n",
    "\n"
   ]
  },
  {
   "cell_type": "markdown",
   "metadata": {},
   "source": [
    "## Part 3: Logistic Regression and Classification Metrics with Code\n",
    "\n",
    "### Set Up"
   ]
  },
  {
   "cell_type": "code",
   "execution_count": 46,
   "metadata": {},
   "outputs": [],
   "source": [
    "# Let's use the same data, but now with a classification target\n",
    "mpg_class = pd.read_csv('data/auto-mpg-classification.csv')"
   ]
  },
  {
   "cell_type": "code",
   "execution_count": 47,
   "metadata": {},
   "outputs": [
    {
     "data": {
      "text/html": [
       "<div>\n",
       "<style scoped>\n",
       "    .dataframe tbody tr th:only-of-type {\n",
       "        vertical-align: middle;\n",
       "    }\n",
       "\n",
       "    .dataframe tbody tr th {\n",
       "        vertical-align: top;\n",
       "    }\n",
       "\n",
       "    .dataframe thead th {\n",
       "        text-align: right;\n",
       "    }\n",
       "</style>\n",
       "<table border=\"1\" class=\"dataframe\">\n",
       "  <thead>\n",
       "    <tr style=\"text-align: right;\">\n",
       "      <th></th>\n",
       "      <th>cylinders</th>\n",
       "      <th>displacement</th>\n",
       "      <th>horsepower</th>\n",
       "      <th>weight</th>\n",
       "      <th>acceleration</th>\n",
       "      <th>model year</th>\n",
       "      <th>origin</th>\n",
       "      <th>target</th>\n",
       "    </tr>\n",
       "  </thead>\n",
       "  <tbody>\n",
       "    <tr>\n",
       "      <th>0</th>\n",
       "      <td>8</td>\n",
       "      <td>307.0</td>\n",
       "      <td>130</td>\n",
       "      <td>3504</td>\n",
       "      <td>12.0</td>\n",
       "      <td>70</td>\n",
       "      <td>1</td>\n",
       "      <td>0</td>\n",
       "    </tr>\n",
       "    <tr>\n",
       "      <th>1</th>\n",
       "      <td>8</td>\n",
       "      <td>350.0</td>\n",
       "      <td>165</td>\n",
       "      <td>3693</td>\n",
       "      <td>11.5</td>\n",
       "      <td>70</td>\n",
       "      <td>1</td>\n",
       "      <td>1</td>\n",
       "    </tr>\n",
       "    <tr>\n",
       "      <th>2</th>\n",
       "      <td>8</td>\n",
       "      <td>318.0</td>\n",
       "      <td>150</td>\n",
       "      <td>3436</td>\n",
       "      <td>11.0</td>\n",
       "      <td>70</td>\n",
       "      <td>1</td>\n",
       "      <td>0</td>\n",
       "    </tr>\n",
       "    <tr>\n",
       "      <th>3</th>\n",
       "      <td>8</td>\n",
       "      <td>304.0</td>\n",
       "      <td>150</td>\n",
       "      <td>3433</td>\n",
       "      <td>12.0</td>\n",
       "      <td>70</td>\n",
       "      <td>1</td>\n",
       "      <td>1</td>\n",
       "    </tr>\n",
       "    <tr>\n",
       "      <th>4</th>\n",
       "      <td>8</td>\n",
       "      <td>302.0</td>\n",
       "      <td>140</td>\n",
       "      <td>3449</td>\n",
       "      <td>10.5</td>\n",
       "      <td>70</td>\n",
       "      <td>1</td>\n",
       "      <td>1</td>\n",
       "    </tr>\n",
       "  </tbody>\n",
       "</table>\n",
       "</div>"
      ],
      "text/plain": [
       "   cylinders  displacement  horsepower  weight  acceleration  model year  \\\n",
       "0          8         307.0         130    3504          12.0          70   \n",
       "1          8         350.0         165    3693          11.5          70   \n",
       "2          8         318.0         150    3436          11.0          70   \n",
       "3          8         304.0         150    3433          12.0          70   \n",
       "4          8         302.0         140    3449          10.5          70   \n",
       "\n",
       "   origin  target  \n",
       "0       1       0  \n",
       "1       1       1  \n",
       "2       1       0  \n",
       "3       1       1  \n",
       "4       1       1  "
      ]
     },
     "execution_count": 47,
     "metadata": {},
     "output_type": "execute_result"
    }
   ],
   "source": [
    "# Check this new dataframe out\n",
    "mpg_class.head()"
   ]
  },
  {
   "cell_type": "markdown",
   "metadata": {},
   "source": [
    "### 6) Prepare our data for modeling:\n",
    "\n",
    "1. Perform a train/test split\n",
    "2. Scale the inputs\n"
   ]
  },
  {
   "cell_type": "code",
   "execution_count": null,
   "metadata": {},
   "outputs": [],
   "source": [
    "# call_on_students(1)"
   ]
  },
  {
   "cell_type": "code",
   "execution_count": 12,
   "metadata": {},
   "outputs": [],
   "source": [
    "# Train-test split\n",
    "# Set test_size=0.33 and random_state=42\n",
    "\n",
    "X= mpg_class.drop('target',axis=1)\n",
    "y = mpg_class['target']\n",
    "\n",
    "X_train, X_test, y_train, y_test = train_test_split(X, y, test_size=0.33, random_state=42)\n"
   ]
  },
  {
   "cell_type": "code",
   "execution_count": 49,
   "metadata": {
    "collapsed": true
   },
   "outputs": [
    {
     "data": {
      "text/plain": [
       "array([[-0.88631438, -0.98222121, -0.96077631, -0.96612552,  0.88504267,\n",
       "        -1.15108625,  0.54542507],\n",
       "       [-0.88631438, -0.743818  ,  0.23505929, -0.24973099,  0.08087091,\n",
       "         0.5120641 ,  0.54542507],\n",
       "       [-0.88631438, -1.02990185, -1.19474415, -1.42598933,  0.32561883,\n",
       "         0.5120641 ,  1.77733341],\n",
       "       [-0.88631438, -1.02990185, -0.93477988, -1.24275311,  1.7591424 ,\n",
       "        -1.42827797, -0.68648327],\n",
       "       [-0.88631438, -0.56263157, -0.51883707, -0.25564183,  0.04590692,\n",
       "         1.620831  , -0.68648327],\n",
       "       [-0.88631438, -0.97268508, -0.80479775, -1.00631927,  0.32561883,\n",
       "        -0.04231935,  1.77733341],\n",
       "       [ 1.42427634,  1.91676177,  1.66486272,  2.05668111, -1.21279671,\n",
       "        -1.42827797, -0.68648327],\n",
       "       [-0.88631438, -0.97268508, -0.80479775, -0.87628066,  0.95497065,\n",
       "         0.23487238,  1.77733341],\n",
       "       [ 0.26898098,  0.24793933, -0.28486923,  0.30470637,  0.18576288,\n",
       "        -0.31951107, -0.68648327],\n",
       "       [-0.88631438, -1.2492328 , -1.48070483, -1.346784  ,  1.40950251,\n",
       "        -0.87389452,  0.54542507],\n",
       "       [ 1.42427634,  1.82140049,  2.18479124,  0.99745751, -2.43653634,\n",
       "        -1.7054697 , -0.68648327],\n",
       "       [ 0.26898098, -0.41005351,  0.05308431, -0.09013814,  0.01094293,\n",
       "        -0.04231935,  1.77733341],\n",
       "       [ 1.42427634,  1.43995536,  1.27491633,  1.6003638 , -0.19884101,\n",
       "         0.78925583, -0.68648327],\n",
       "       [-0.88631438, -0.97268508, -0.80479775, -0.98740456,  0.18576288,\n",
       "        -0.31951107,  1.77733341],\n",
       "       [ 0.26898098, -0.34330062,  0.70299496,  0.47730307,  0.1158349 ,\n",
       "         0.5120641 ,  0.54542507],\n",
       "       [-0.88631438, -0.82964316, -0.46684422, -0.47434313,  1.4444665 ,\n",
       "         1.620831  , -0.68648327],\n",
       "       [ 0.26898098, -0.00953613, -0.28486923,  0.11319496,  0.36058282,\n",
       "        -0.5967028 , -0.68648327],\n",
       "       [-0.88631438, -0.86778767, -0.80479775, -0.77579628,  0.46547479,\n",
       "         1.34363928,  1.77733341],\n",
       "       [-0.88631438, -0.743818  , -0.67481562, -0.39750214, -0.16387702,\n",
       "         0.78925583, -0.68648327],\n",
       "       [-0.88631438, -0.73428187, -0.46684422, -0.5984709 , -0.12891303,\n",
       "         1.06644755,  0.54542507],\n",
       "       [ 0.26898098, -0.00953613, -0.28486923, -0.20480856,  0.01094293,\n",
       "        -1.7054697 , -0.68648327],\n",
       "       [-0.88631438, -0.97268508, -1.40271555, -1.0358735 ,  3.19266597,\n",
       "         1.620831  ,  0.54542507],\n",
       "       [-0.88631438, -1.02990185, -0.98677274, -1.20728803,  0.18576288,\n",
       "         1.34363928,  1.77733341],\n",
       "       [ 1.42427634,  1.02990185,  0.62500568,  0.58842697, -1.21279671,\n",
       "        -1.7054697 , -0.68648327],\n",
       "       [-0.88631438, -1.14433539, -1.01276916, -1.23329575,  0.01094293,\n",
       "        -0.5967028 ,  0.54542507],\n",
       "       [-0.88631438, -0.96314895, -0.41485136, -0.87628066,  0.01094293,\n",
       "        -0.87389452,  0.54542507],\n",
       "       [-0.88631438, -0.75335413, -0.49284064, -0.03221185,  1.40950251,\n",
       "        -1.15108625,  0.54542507],\n",
       "       [ 0.26898098,  0.24793933, -0.02490497,  0.51158597,  0.01094293,\n",
       "        -1.42827797, -0.68648327],\n",
       "       [-0.88631438, -0.97268508, -1.55869411, -1.24866395,  1.93396235,\n",
       "        -0.87389452,  0.54542507],\n",
       "       [-0.88631438, -0.743818  , -0.77880133, -0.58546704,  0.88504267,\n",
       "        -1.15108625,  0.54542507],\n",
       "       [ 1.42427634,  1.43995536,  1.01495207,  1.69493734, -0.51351691,\n",
       "        -0.31951107, -0.68648327],\n",
       "       [ 0.26898098,  0.31469223, -0.41485136,  0.24086923,  0.60533075,\n",
       "         0.5120641 , -0.68648327],\n",
       "       [ 1.42427634,  0.64845672,  0.49502355,  0.70782606, -0.16387702,\n",
       "         0.78925583, -0.68648327],\n",
       "       [-0.88631438, -0.75335413, -0.83079418, -0.43887806,  0.98993463,\n",
       "         1.34363928,  1.77733341],\n",
       "       [ 1.42427634,  1.91676177,  1.1449342 ,  1.7233094 , -1.21279671,\n",
       "        -0.87389452, -0.68648327],\n",
       "       [-0.88631438, -1.02990185, -1.01276916, -1.19546634,  0.25569085,\n",
       "         1.620831  ,  1.77733341],\n",
       "       [ 1.42427634,  0.98222121,  0.88496994,  1.92900684,  0.18576288,\n",
       "        -0.5967028 , -0.68648327],\n",
       "       [-0.88631438, -0.96791702, -0.67481562, -1.04060218,  0.53540277,\n",
       "        -1.15108625, -0.68648327],\n",
       "       [ 1.42427634,  0.98222121,  0.88496994,  1.52234063,  0.18576288,\n",
       "        -1.15108625, -0.68648327],\n",
       "       [ 1.42427634,  1.53531665,  2.83470189,  1.90181695, -0.51351691,\n",
       "        -1.7054697 , -0.68648327],\n",
       "       [ 1.42427634,  1.02990185,  0.62500568,  1.29063547, -0.51351691,\n",
       "        -1.15108625, -0.68648327],\n",
       "       [-0.88631438, -1.03943798, -0.80479775, -1.06188122,  0.01094293,\n",
       "        -0.5967028 ,  0.54542507],\n",
       "       [-0.88631438, -0.89639605, -0.83079418, -1.21319888, -0.05898505,\n",
       "         1.620831  ,  0.54542507],\n",
       "       [-0.88631438, -0.97268508, -0.72680848, -0.83490474, -0.33869697,\n",
       "        -0.5967028 ,  0.54542507],\n",
       "       [ 1.42427634,  1.44949149,  1.09294135,  1.95146805, -0.68833686,\n",
       "        -0.31951107, -0.68648327],\n",
       "       [ 1.42427634,  2.2982069 ,  2.83470189,  2.04367725, -1.5624366 ,\n",
       "        -0.87389452, -0.68648327],\n",
       "       [ 0.26898098,  0.48634254, -0.1548871 ,  0.32598541, -0.16387702,\n",
       "        -1.42827797, -0.68648327],\n",
       "       [-0.88631438, -1.02990185, -0.96077631, -1.0358735 , -0.26876899,\n",
       "         0.78925583,  0.54542507],\n",
       "       [-0.88631438, -0.56263157, -0.88278703, -0.71550565,  1.40950251,\n",
       "        -0.87389452, -0.68648327],\n",
       "       [-0.88631438, -1.03943798, -0.93477988, -1.26403215, -0.44358894,\n",
       "        -0.04231935,  0.54542507],\n",
       "       [ 1.42427634,  1.44949149,  1.22292348,  1.35683695, -0.68833686,\n",
       "        -1.42827797, -0.68648327],\n",
       "       [-0.88631438, -0.82010703, -0.28486923, -0.86091246,  0.01094293,\n",
       "        -1.15108625,  1.77733341],\n",
       "       [-0.88631438, -0.56263157, -0.41485136, -0.87746283,  0.01094293,\n",
       "        -1.42827797, -0.68648327],\n",
       "       [-0.88631438, -0.75335413, -0.46684422, -1.00040842, -0.33869697,\n",
       "         1.620831  ,  1.77733341],\n",
       "       [ 0.26898098,  0.31469223,  0.15707001, -0.20244422, -0.26876899,\n",
       "         1.620831  , -0.68648327],\n",
       "       [ 0.26898098,  0.56263157,  0.10507716,  0.73974463,  0.88504267,\n",
       "        -0.5967028 , -0.68648327],\n",
       "       [ 1.42427634,  0.60077608,  0.10507716,  0.25387309, -0.68833686,\n",
       "        -0.31951107, -0.68648327],\n",
       "       [ 0.26898098,  0.31469223, -0.1548871 , -0.10905285,  0.18576288,\n",
       "        -0.31951107, -0.68648327],\n",
       "       [-0.88631438, -0.90593218, -0.28486923, -0.74624205,  0.71022272,\n",
       "        -1.7054697 ,  0.54542507],\n",
       "       [-0.88631438, -0.82010703, -0.28486923, -0.92002092, -0.51351691,\n",
       "        -1.42827797,  1.77733341],\n",
       "       [ 1.42427634,  2.44124883,  3.09466615,  2.29902579, -1.5624366 ,\n",
       "        -0.87389452, -0.68648327],\n",
       "       [ 0.26898098,  0.31469223, -0.41485136,  0.09309808,  0.74518671,\n",
       "        -0.04231935, -0.68648327],\n",
       "       [ 0.26898098, -0.24793933,  0.23505929, -0.36203706, -0.8981208 ,\n",
       "         0.78925583, -0.68648327],\n",
       "       [-0.88631438, -0.75335413, -0.46684422, -0.05821958,  0.53540277,\n",
       "        -0.31951107,  0.54542507],\n",
       "       [-0.88631438, -0.61984834, -0.28486923, -0.58073836, -0.233805  ,\n",
       "         0.5120641 ,  1.77733341],\n",
       "       [-0.88631438, -0.79149864, -0.6488192 , -0.92947827,  0.50043878,\n",
       "        -0.04231935,  0.54542507],\n",
       "       [-0.88631438, -0.56263157, -0.46684422, -0.33839368, -0.02402106,\n",
       "         0.5120641 , -0.68648327],\n",
       "       [-0.88631438, -1.03943798, -0.93477988, -1.26403215, -0.51351691,\n",
       "        -0.31951107,  0.54542507],\n",
       "       [ 1.42427634,  0.58170382,  0.10507716,  0.42410545,  0.01094293,\n",
       "         0.5120641 , -0.68648327],\n",
       "       [ 1.42427634,  2.19330949,  2.39276265,  1.57790259, -1.9120765 ,\n",
       "        -1.7054697 , -0.68648327],\n",
       "       [-0.88631438, -0.56263157, -0.88278703, -0.70723046,  1.23468256,\n",
       "        -1.42827797, -0.68648327],\n",
       "       [ 1.42427634,  1.43995536,  1.79484485,  1.29299981, -0.86315681,\n",
       "        -0.87389452, -0.68648327],\n",
       "       [ 0.26898098, -0.5054148 , -0.23287638, -0.2260876 , -0.33869697,\n",
       "         0.23487238,  1.77733341],\n",
       "       [-1.46396206, -1.23016054, -0.41485136, -1.04296651, -0.68833686,\n",
       "        -0.87389452,  1.77733341],\n",
       "       [ 0.26898098,  0.24793933, -0.54483349,  0.54232237,  0.39554681,\n",
       "         1.34363928, -0.68648327],\n",
       "       [-0.88631438, -0.96314895, -0.67481562, -0.99567975, -0.16387702,\n",
       "        -1.15108625, -0.68648327],\n",
       "       [ 1.42427634,  1.43995536,  1.01495207,  1.27172077, -0.86315681,\n",
       "        -0.87389452, -0.68648327],\n",
       "       [ 1.42427634,  1.00129346,  1.1449342 ,  0.50449296, -1.21279671,\n",
       "        -1.7054697 , -0.68648327],\n",
       "       [-0.88631438, -0.97268508, -0.46684422, -1.0358735 , -0.33869697,\n",
       "        -1.7054697 ,  1.77733341],\n",
       "       [ 0.26898098,  0.24793933,  0.10507716,  0.7255586 ,  1.12979059,\n",
       "         0.5120641 , -0.68648327],\n",
       "       [-0.88631438, -0.56263157, -0.36285851, -0.51335472, -0.19884101,\n",
       "        -0.04231935, -0.68648327],\n",
       "       [ 0.26898098, -0.26701159, -0.23287638, -0.02630101, -0.33869697,\n",
       "        -0.31951107, -0.68648327],\n",
       "       [ 1.42427634,  1.13479926,  1.1449342 ,  1.33437573, -0.68833686,\n",
       "        -1.15108625, -0.68648327],\n",
       "       [-0.88631438, -1.07758249, -1.09075844, -1.33732664,  0.32561883,\n",
       "         1.34363928, -0.68648327],\n",
       "       [ 1.42427634,  1.91676177,  2.18479124,  1.55898788, -1.14286873,\n",
       "         0.23487238, -0.68648327],\n",
       "       [-0.88631438, -1.04897411, -1.14275129, -1.37279172, -0.05898505,\n",
       "         1.06644755,  0.54542507],\n",
       "       [ 0.26898098, -0.17165031,  0.10507716, -0.07240561,  0.32561883,\n",
       "         1.620831  , -0.68648327],\n",
       "       [ 0.26898098,  0.3051561 ,  0.23505929,  0.28224515, -0.02402106,\n",
       "         0.78925583, -0.68648327],\n",
       "       [ 1.42427634,  0.58170382,  0.10507716,  1.24571304,  1.23468256,\n",
       "         0.23487238, -0.68648327],\n",
       "       [ 0.26898098,  0.48634254, -0.1548871 ,  0.91588784,  0.53540277,\n",
       "        -0.5967028 , -0.68648327],\n",
       "       [-0.88631438, -0.56263157, -0.46684422, -0.13742491,  0.64029474,\n",
       "         0.78925583, -0.68648327],\n",
       "       [ 0.26898098, -0.51495092, -0.77880133,  0.18176077,  1.4444665 ,\n",
       "         1.34363928,  0.54542507],\n",
       "       [-0.88631438, -0.97268508, -1.01276916, -1.20728803,  0.32561883,\n",
       "         0.23487238,  1.77733341],\n",
       "       [-0.88631438, -0.82964316, -0.54483349, -0.50980821,  0.25569085,\n",
       "         1.620831  , -0.68648327],\n",
       "       [ 0.26898098,  0.3051561 , -0.02490497,  0.62507422,  1.30461054,\n",
       "         0.5120641 , -0.68648327],\n",
       "       [ 0.26898098, -0.29561998,  0.36504142,  0.96199244,  0.4305108 ,\n",
       "        -0.04231935,  0.54542507],\n",
       "       [-0.88631438, -0.743818  ,  0.15707001, -0.08659164, -0.33869697,\n",
       "        -1.15108625,  0.54542507],\n",
       "       [ 1.42427634,  1.53531665,  1.66486272,  1.94792154, -0.86315681,\n",
       "        -0.87389452, -0.68648327],\n",
       "       [-0.88631438, -0.61984834, -0.28486923, -0.52754075, -0.44358894,\n",
       "         0.5120641 ,  1.77733341],\n",
       "       [ 0.26898098,  0.        , -0.23287638, -0.27455654,  0.01094293,\n",
       "        -1.7054697 , -0.68648327],\n",
       "       [ 1.42427634,  2.19330949,  2.65272691,  1.92309599, -1.5624366 ,\n",
       "        -1.15108625, -0.68648327],\n",
       "       [ 0.26898098,  0.3051561 ,  0.10507716,  1.06484116,  1.93396235,\n",
       "        -0.31951107, -0.68648327],\n",
       "       [ 1.42427634,  2.2982069 ,  2.83470189,  1.54361968, -2.43653634,\n",
       "        -1.7054697 , -0.68648327],\n",
       "       [-0.88631438, -0.97268508, -1.55869411, -1.38461341,  1.7591424 ,\n",
       "        -1.7054697 ,  0.54542507],\n",
       "       [-0.88631438, -0.89639605, -0.93477988, -0.95312166, -0.79322883,\n",
       "         0.78925583, -0.68648327],\n",
       "       [-0.88631438, -0.96314895, -1.06476201, -1.13635788,  0.25569085,\n",
       "         1.34363928, -0.68648327],\n",
       "       [-0.88631438, -1.12526313, -1.19474415, -1.4732761 ,  0.22072687,\n",
       "         1.34363928,  1.77733341],\n",
       "       [-0.88631438, -0.8105709 , -0.38885494, -0.50153302, -0.51351691,\n",
       "        -0.87389452,  0.54542507],\n",
       "       [-0.88631438, -0.743818  , -0.20687996, -0.07240561, -0.33869697,\n",
       "        -0.31951107,  0.54542507],\n",
       "       [ 1.42427634,  1.13479926,  0.75498781,  0.97381413, -0.09394904,\n",
       "         0.78925583, -0.68648327],\n",
       "       [-0.88631438, -1.02990185, -1.01276916, -1.23093142,  0.08087091,\n",
       "         1.620831  ,  1.77733341],\n",
       "       [-0.88631438, -1.04897411, -0.90878346, -1.27821818, -0.51351691,\n",
       "         0.78925583,  0.54542507],\n",
       "       [-0.88631438, -0.73428187, -0.51883707, -0.92238526,  0.36058282,\n",
       "        -1.15108625, -0.68648327],\n",
       "       [-0.88631438, -0.73428187, -0.51883707, -0.72259866,  0.18576288,\n",
       "        -1.15108625, -0.68648327],\n",
       "       [-0.88631438, -1.07758249, -1.06476201, -1.16709428,  0.32561883,\n",
       "         1.06644755,  1.77733341],\n",
       "       [-0.88631438, -0.76289026, -0.1548871 , -0.46252144, -0.233805  ,\n",
       "         1.34363928,  1.77733341],\n",
       "       [ 1.42427634,  1.13479926,  0.88496994,  0.86150806, -0.79322883,\n",
       "         0.5120641 , -0.68648327],\n",
       "       [ 0.26898098,  0.48634254, -0.88278703,  0.17939643,  1.40950251,\n",
       "        -0.31951107, -0.68648327],\n",
       "       [-0.88631438, -0.86778767, -0.31086566, -0.74151337,  0.36058282,\n",
       "        -0.87389452,  1.77733341],\n",
       "       [ 0.26898098,  0.00953613, -0.54483349, -0.49562218,  0.18576288,\n",
       "        -1.7054697 , -0.68648327],\n",
       "       [-0.88631438, -0.76289026, -0.36285851, -0.67649406, -0.16387702,\n",
       "         1.06644755,  1.77733341],\n",
       "       [ 0.26898098,  0.        , -0.41485136, -0.42350986, -0.16387702,\n",
       "        -1.7054697 , -0.68648327],\n",
       "       [ 0.26898098,  0.48634254, -0.1548871 ,  0.38982255,  0.53540277,\n",
       "        -0.5967028 , -0.68648327],\n",
       "       [-0.88631438, -1.02990185, -0.98677274, -1.22502057,  0.74518671,\n",
       "         1.620831  ,  1.77733341],\n",
       "       [-0.88631438, -0.80103477, -0.28486923, -0.36913007, -0.16387702,\n",
       "        -0.31951107,  0.54542507],\n",
       "       [-0.88631438, -0.45773416, -0.46684422, -0.31475029,  0.18576288,\n",
       "         0.23487238, -0.68648327],\n",
       "       [-0.88631438, -1.08711862, -1.40271555, -1.14817957,  2.35353023,\n",
       "        -0.04231935, -0.68648327],\n",
       "       [-0.88631438, -0.97268508, -0.72680848, -0.96494335, -0.47855293,\n",
       "         0.23487238,  0.54542507],\n",
       "       [ 0.26898098,  0.48634254, -0.88278703,  0.50331079,  1.93396235,\n",
       "        -0.31951107, -0.68648327],\n",
       "       [-0.88631438, -0.89639605, -1.11675487, -0.93538912, -0.19884101,\n",
       "         1.34363928, -0.68648327]])"
      ]
     },
     "execution_count": 49,
     "metadata": {},
     "output_type": "execute_result"
    }
   ],
   "source": [
    "Correct answer!\n",
    "\n",
    "#Never fit on the test data!!!!! (Use fit_transform and transform)\n",
    "\n",
    "X_train_scaled = scaler.fit_transform(X_train)\n",
    "\n",
    "X_test_scaled = scaler.transform(X_test)\n",
    "\n",
    "X_train_scaled\n",
    "X_test_scaled"
   ]
  },
  {
   "cell_type": "code",
   "execution_count": 48,
   "metadata": {
    "collapsed": true
   },
   "outputs": [
    {
     "data": {
      "text/plain": [
       "array([[-0.88631438, -0.98222121, -0.96077631, -0.96612552,  0.88504267,\n",
       "        -1.15108625,  0.54542507],\n",
       "       [-0.88631438, -0.743818  ,  0.23505929, -0.24973099,  0.08087091,\n",
       "         0.5120641 ,  0.54542507],\n",
       "       [-0.88631438, -1.02990185, -1.19474415, -1.42598933,  0.32561883,\n",
       "         0.5120641 ,  1.77733341],\n",
       "       [-0.88631438, -1.02990185, -0.93477988, -1.24275311,  1.7591424 ,\n",
       "        -1.42827797, -0.68648327],\n",
       "       [-0.88631438, -0.56263157, -0.51883707, -0.25564183,  0.04590692,\n",
       "         1.620831  , -0.68648327],\n",
       "       [-0.88631438, -0.97268508, -0.80479775, -1.00631927,  0.32561883,\n",
       "        -0.04231935,  1.77733341],\n",
       "       [ 1.42427634,  1.91676177,  1.66486272,  2.05668111, -1.21279671,\n",
       "        -1.42827797, -0.68648327],\n",
       "       [-0.88631438, -0.97268508, -0.80479775, -0.87628066,  0.95497065,\n",
       "         0.23487238,  1.77733341],\n",
       "       [ 0.26898098,  0.24793933, -0.28486923,  0.30470637,  0.18576288,\n",
       "        -0.31951107, -0.68648327],\n",
       "       [-0.88631438, -1.2492328 , -1.48070483, -1.346784  ,  1.40950251,\n",
       "        -0.87389452,  0.54542507],\n",
       "       [ 1.42427634,  1.82140049,  2.18479124,  0.99745751, -2.43653634,\n",
       "        -1.7054697 , -0.68648327],\n",
       "       [ 0.26898098, -0.41005351,  0.05308431, -0.09013814,  0.01094293,\n",
       "        -0.04231935,  1.77733341],\n",
       "       [ 1.42427634,  1.43995536,  1.27491633,  1.6003638 , -0.19884101,\n",
       "         0.78925583, -0.68648327],\n",
       "       [-0.88631438, -0.97268508, -0.80479775, -0.98740456,  0.18576288,\n",
       "        -0.31951107,  1.77733341],\n",
       "       [ 0.26898098, -0.34330062,  0.70299496,  0.47730307,  0.1158349 ,\n",
       "         0.5120641 ,  0.54542507],\n",
       "       [-0.88631438, -0.82964316, -0.46684422, -0.47434313,  1.4444665 ,\n",
       "         1.620831  , -0.68648327],\n",
       "       [ 0.26898098, -0.00953613, -0.28486923,  0.11319496,  0.36058282,\n",
       "        -0.5967028 , -0.68648327],\n",
       "       [-0.88631438, -0.86778767, -0.80479775, -0.77579628,  0.46547479,\n",
       "         1.34363928,  1.77733341],\n",
       "       [-0.88631438, -0.743818  , -0.67481562, -0.39750214, -0.16387702,\n",
       "         0.78925583, -0.68648327],\n",
       "       [-0.88631438, -0.73428187, -0.46684422, -0.5984709 , -0.12891303,\n",
       "         1.06644755,  0.54542507],\n",
       "       [ 0.26898098, -0.00953613, -0.28486923, -0.20480856,  0.01094293,\n",
       "        -1.7054697 , -0.68648327],\n",
       "       [-0.88631438, -0.97268508, -1.40271555, -1.0358735 ,  3.19266597,\n",
       "         1.620831  ,  0.54542507],\n",
       "       [-0.88631438, -1.02990185, -0.98677274, -1.20728803,  0.18576288,\n",
       "         1.34363928,  1.77733341],\n",
       "       [ 1.42427634,  1.02990185,  0.62500568,  0.58842697, -1.21279671,\n",
       "        -1.7054697 , -0.68648327],\n",
       "       [-0.88631438, -1.14433539, -1.01276916, -1.23329575,  0.01094293,\n",
       "        -0.5967028 ,  0.54542507],\n",
       "       [-0.88631438, -0.96314895, -0.41485136, -0.87628066,  0.01094293,\n",
       "        -0.87389452,  0.54542507],\n",
       "       [-0.88631438, -0.75335413, -0.49284064, -0.03221185,  1.40950251,\n",
       "        -1.15108625,  0.54542507],\n",
       "       [ 0.26898098,  0.24793933, -0.02490497,  0.51158597,  0.01094293,\n",
       "        -1.42827797, -0.68648327],\n",
       "       [-0.88631438, -0.97268508, -1.55869411, -1.24866395,  1.93396235,\n",
       "        -0.87389452,  0.54542507],\n",
       "       [-0.88631438, -0.743818  , -0.77880133, -0.58546704,  0.88504267,\n",
       "        -1.15108625,  0.54542507],\n",
       "       [ 1.42427634,  1.43995536,  1.01495207,  1.69493734, -0.51351691,\n",
       "        -0.31951107, -0.68648327],\n",
       "       [ 0.26898098,  0.31469223, -0.41485136,  0.24086923,  0.60533075,\n",
       "         0.5120641 , -0.68648327],\n",
       "       [ 1.42427634,  0.64845672,  0.49502355,  0.70782606, -0.16387702,\n",
       "         0.78925583, -0.68648327],\n",
       "       [-0.88631438, -0.75335413, -0.83079418, -0.43887806,  0.98993463,\n",
       "         1.34363928,  1.77733341],\n",
       "       [ 1.42427634,  1.91676177,  1.1449342 ,  1.7233094 , -1.21279671,\n",
       "        -0.87389452, -0.68648327],\n",
       "       [-0.88631438, -1.02990185, -1.01276916, -1.19546634,  0.25569085,\n",
       "         1.620831  ,  1.77733341],\n",
       "       [ 1.42427634,  0.98222121,  0.88496994,  1.92900684,  0.18576288,\n",
       "        -0.5967028 , -0.68648327],\n",
       "       [-0.88631438, -0.96791702, -0.67481562, -1.04060218,  0.53540277,\n",
       "        -1.15108625, -0.68648327],\n",
       "       [ 1.42427634,  0.98222121,  0.88496994,  1.52234063,  0.18576288,\n",
       "        -1.15108625, -0.68648327],\n",
       "       [ 1.42427634,  1.53531665,  2.83470189,  1.90181695, -0.51351691,\n",
       "        -1.7054697 , -0.68648327],\n",
       "       [ 1.42427634,  1.02990185,  0.62500568,  1.29063547, -0.51351691,\n",
       "        -1.15108625, -0.68648327],\n",
       "       [-0.88631438, -1.03943798, -0.80479775, -1.06188122,  0.01094293,\n",
       "        -0.5967028 ,  0.54542507],\n",
       "       [-0.88631438, -0.89639605, -0.83079418, -1.21319888, -0.05898505,\n",
       "         1.620831  ,  0.54542507],\n",
       "       [-0.88631438, -0.97268508, -0.72680848, -0.83490474, -0.33869697,\n",
       "        -0.5967028 ,  0.54542507],\n",
       "       [ 1.42427634,  1.44949149,  1.09294135,  1.95146805, -0.68833686,\n",
       "        -0.31951107, -0.68648327],\n",
       "       [ 1.42427634,  2.2982069 ,  2.83470189,  2.04367725, -1.5624366 ,\n",
       "        -0.87389452, -0.68648327],\n",
       "       [ 0.26898098,  0.48634254, -0.1548871 ,  0.32598541, -0.16387702,\n",
       "        -1.42827797, -0.68648327],\n",
       "       [-0.88631438, -1.02990185, -0.96077631, -1.0358735 , -0.26876899,\n",
       "         0.78925583,  0.54542507],\n",
       "       [-0.88631438, -0.56263157, -0.88278703, -0.71550565,  1.40950251,\n",
       "        -0.87389452, -0.68648327],\n",
       "       [-0.88631438, -1.03943798, -0.93477988, -1.26403215, -0.44358894,\n",
       "        -0.04231935,  0.54542507],\n",
       "       [ 1.42427634,  1.44949149,  1.22292348,  1.35683695, -0.68833686,\n",
       "        -1.42827797, -0.68648327],\n",
       "       [-0.88631438, -0.82010703, -0.28486923, -0.86091246,  0.01094293,\n",
       "        -1.15108625,  1.77733341],\n",
       "       [-0.88631438, -0.56263157, -0.41485136, -0.87746283,  0.01094293,\n",
       "        -1.42827797, -0.68648327],\n",
       "       [-0.88631438, -0.75335413, -0.46684422, -1.00040842, -0.33869697,\n",
       "         1.620831  ,  1.77733341],\n",
       "       [ 0.26898098,  0.31469223,  0.15707001, -0.20244422, -0.26876899,\n",
       "         1.620831  , -0.68648327],\n",
       "       [ 0.26898098,  0.56263157,  0.10507716,  0.73974463,  0.88504267,\n",
       "        -0.5967028 , -0.68648327],\n",
       "       [ 1.42427634,  0.60077608,  0.10507716,  0.25387309, -0.68833686,\n",
       "        -0.31951107, -0.68648327],\n",
       "       [ 0.26898098,  0.31469223, -0.1548871 , -0.10905285,  0.18576288,\n",
       "        -0.31951107, -0.68648327],\n",
       "       [-0.88631438, -0.90593218, -0.28486923, -0.74624205,  0.71022272,\n",
       "        -1.7054697 ,  0.54542507],\n",
       "       [-0.88631438, -0.82010703, -0.28486923, -0.92002092, -0.51351691,\n",
       "        -1.42827797,  1.77733341],\n",
       "       [ 1.42427634,  2.44124883,  3.09466615,  2.29902579, -1.5624366 ,\n",
       "        -0.87389452, -0.68648327],\n",
       "       [ 0.26898098,  0.31469223, -0.41485136,  0.09309808,  0.74518671,\n",
       "        -0.04231935, -0.68648327],\n",
       "       [ 0.26898098, -0.24793933,  0.23505929, -0.36203706, -0.8981208 ,\n",
       "         0.78925583, -0.68648327],\n",
       "       [-0.88631438, -0.75335413, -0.46684422, -0.05821958,  0.53540277,\n",
       "        -0.31951107,  0.54542507],\n",
       "       [-0.88631438, -0.61984834, -0.28486923, -0.58073836, -0.233805  ,\n",
       "         0.5120641 ,  1.77733341],\n",
       "       [-0.88631438, -0.79149864, -0.6488192 , -0.92947827,  0.50043878,\n",
       "        -0.04231935,  0.54542507],\n",
       "       [-0.88631438, -0.56263157, -0.46684422, -0.33839368, -0.02402106,\n",
       "         0.5120641 , -0.68648327],\n",
       "       [-0.88631438, -1.03943798, -0.93477988, -1.26403215, -0.51351691,\n",
       "        -0.31951107,  0.54542507],\n",
       "       [ 1.42427634,  0.58170382,  0.10507716,  0.42410545,  0.01094293,\n",
       "         0.5120641 , -0.68648327],\n",
       "       [ 1.42427634,  2.19330949,  2.39276265,  1.57790259, -1.9120765 ,\n",
       "        -1.7054697 , -0.68648327],\n",
       "       [-0.88631438, -0.56263157, -0.88278703, -0.70723046,  1.23468256,\n",
       "        -1.42827797, -0.68648327],\n",
       "       [ 1.42427634,  1.43995536,  1.79484485,  1.29299981, -0.86315681,\n",
       "        -0.87389452, -0.68648327],\n",
       "       [ 0.26898098, -0.5054148 , -0.23287638, -0.2260876 , -0.33869697,\n",
       "         0.23487238,  1.77733341],\n",
       "       [-1.46396206, -1.23016054, -0.41485136, -1.04296651, -0.68833686,\n",
       "        -0.87389452,  1.77733341],\n",
       "       [ 0.26898098,  0.24793933, -0.54483349,  0.54232237,  0.39554681,\n",
       "         1.34363928, -0.68648327],\n",
       "       [-0.88631438, -0.96314895, -0.67481562, -0.99567975, -0.16387702,\n",
       "        -1.15108625, -0.68648327],\n",
       "       [ 1.42427634,  1.43995536,  1.01495207,  1.27172077, -0.86315681,\n",
       "        -0.87389452, -0.68648327],\n",
       "       [ 1.42427634,  1.00129346,  1.1449342 ,  0.50449296, -1.21279671,\n",
       "        -1.7054697 , -0.68648327],\n",
       "       [-0.88631438, -0.97268508, -0.46684422, -1.0358735 , -0.33869697,\n",
       "        -1.7054697 ,  1.77733341],\n",
       "       [ 0.26898098,  0.24793933,  0.10507716,  0.7255586 ,  1.12979059,\n",
       "         0.5120641 , -0.68648327],\n",
       "       [-0.88631438, -0.56263157, -0.36285851, -0.51335472, -0.19884101,\n",
       "        -0.04231935, -0.68648327],\n",
       "       [ 0.26898098, -0.26701159, -0.23287638, -0.02630101, -0.33869697,\n",
       "        -0.31951107, -0.68648327],\n",
       "       [ 1.42427634,  1.13479926,  1.1449342 ,  1.33437573, -0.68833686,\n",
       "        -1.15108625, -0.68648327],\n",
       "       [-0.88631438, -1.07758249, -1.09075844, -1.33732664,  0.32561883,\n",
       "         1.34363928, -0.68648327],\n",
       "       [ 1.42427634,  1.91676177,  2.18479124,  1.55898788, -1.14286873,\n",
       "         0.23487238, -0.68648327],\n",
       "       [-0.88631438, -1.04897411, -1.14275129, -1.37279172, -0.05898505,\n",
       "         1.06644755,  0.54542507],\n",
       "       [ 0.26898098, -0.17165031,  0.10507716, -0.07240561,  0.32561883,\n",
       "         1.620831  , -0.68648327],\n",
       "       [ 0.26898098,  0.3051561 ,  0.23505929,  0.28224515, -0.02402106,\n",
       "         0.78925583, -0.68648327],\n",
       "       [ 1.42427634,  0.58170382,  0.10507716,  1.24571304,  1.23468256,\n",
       "         0.23487238, -0.68648327],\n",
       "       [ 0.26898098,  0.48634254, -0.1548871 ,  0.91588784,  0.53540277,\n",
       "        -0.5967028 , -0.68648327],\n",
       "       [-0.88631438, -0.56263157, -0.46684422, -0.13742491,  0.64029474,\n",
       "         0.78925583, -0.68648327],\n",
       "       [ 0.26898098, -0.51495092, -0.77880133,  0.18176077,  1.4444665 ,\n",
       "         1.34363928,  0.54542507],\n",
       "       [-0.88631438, -0.97268508, -1.01276916, -1.20728803,  0.32561883,\n",
       "         0.23487238,  1.77733341],\n",
       "       [-0.88631438, -0.82964316, -0.54483349, -0.50980821,  0.25569085,\n",
       "         1.620831  , -0.68648327],\n",
       "       [ 0.26898098,  0.3051561 , -0.02490497,  0.62507422,  1.30461054,\n",
       "         0.5120641 , -0.68648327],\n",
       "       [ 0.26898098, -0.29561998,  0.36504142,  0.96199244,  0.4305108 ,\n",
       "        -0.04231935,  0.54542507],\n",
       "       [-0.88631438, -0.743818  ,  0.15707001, -0.08659164, -0.33869697,\n",
       "        -1.15108625,  0.54542507],\n",
       "       [ 1.42427634,  1.53531665,  1.66486272,  1.94792154, -0.86315681,\n",
       "        -0.87389452, -0.68648327],\n",
       "       [-0.88631438, -0.61984834, -0.28486923, -0.52754075, -0.44358894,\n",
       "         0.5120641 ,  1.77733341],\n",
       "       [ 0.26898098,  0.        , -0.23287638, -0.27455654,  0.01094293,\n",
       "        -1.7054697 , -0.68648327],\n",
       "       [ 1.42427634,  2.19330949,  2.65272691,  1.92309599, -1.5624366 ,\n",
       "        -1.15108625, -0.68648327],\n",
       "       [ 0.26898098,  0.3051561 ,  0.10507716,  1.06484116,  1.93396235,\n",
       "        -0.31951107, -0.68648327],\n",
       "       [ 1.42427634,  2.2982069 ,  2.83470189,  1.54361968, -2.43653634,\n",
       "        -1.7054697 , -0.68648327],\n",
       "       [-0.88631438, -0.97268508, -1.55869411, -1.38461341,  1.7591424 ,\n",
       "        -1.7054697 ,  0.54542507],\n",
       "       [-0.88631438, -0.89639605, -0.93477988, -0.95312166, -0.79322883,\n",
       "         0.78925583, -0.68648327],\n",
       "       [-0.88631438, -0.96314895, -1.06476201, -1.13635788,  0.25569085,\n",
       "         1.34363928, -0.68648327],\n",
       "       [-0.88631438, -1.12526313, -1.19474415, -1.4732761 ,  0.22072687,\n",
       "         1.34363928,  1.77733341],\n",
       "       [-0.88631438, -0.8105709 , -0.38885494, -0.50153302, -0.51351691,\n",
       "        -0.87389452,  0.54542507],\n",
       "       [-0.88631438, -0.743818  , -0.20687996, -0.07240561, -0.33869697,\n",
       "        -0.31951107,  0.54542507],\n",
       "       [ 1.42427634,  1.13479926,  0.75498781,  0.97381413, -0.09394904,\n",
       "         0.78925583, -0.68648327],\n",
       "       [-0.88631438, -1.02990185, -1.01276916, -1.23093142,  0.08087091,\n",
       "         1.620831  ,  1.77733341],\n",
       "       [-0.88631438, -1.04897411, -0.90878346, -1.27821818, -0.51351691,\n",
       "         0.78925583,  0.54542507],\n",
       "       [-0.88631438, -0.73428187, -0.51883707, -0.92238526,  0.36058282,\n",
       "        -1.15108625, -0.68648327],\n",
       "       [-0.88631438, -0.73428187, -0.51883707, -0.72259866,  0.18576288,\n",
       "        -1.15108625, -0.68648327],\n",
       "       [-0.88631438, -1.07758249, -1.06476201, -1.16709428,  0.32561883,\n",
       "         1.06644755,  1.77733341],\n",
       "       [-0.88631438, -0.76289026, -0.1548871 , -0.46252144, -0.233805  ,\n",
       "         1.34363928,  1.77733341],\n",
       "       [ 1.42427634,  1.13479926,  0.88496994,  0.86150806, -0.79322883,\n",
       "         0.5120641 , -0.68648327],\n",
       "       [ 0.26898098,  0.48634254, -0.88278703,  0.17939643,  1.40950251,\n",
       "        -0.31951107, -0.68648327],\n",
       "       [-0.88631438, -0.86778767, -0.31086566, -0.74151337,  0.36058282,\n",
       "        -0.87389452,  1.77733341],\n",
       "       [ 0.26898098,  0.00953613, -0.54483349, -0.49562218,  0.18576288,\n",
       "        -1.7054697 , -0.68648327],\n",
       "       [-0.88631438, -0.76289026, -0.36285851, -0.67649406, -0.16387702,\n",
       "         1.06644755,  1.77733341],\n",
       "       [ 0.26898098,  0.        , -0.41485136, -0.42350986, -0.16387702,\n",
       "        -1.7054697 , -0.68648327],\n",
       "       [ 0.26898098,  0.48634254, -0.1548871 ,  0.38982255,  0.53540277,\n",
       "        -0.5967028 , -0.68648327],\n",
       "       [-0.88631438, -1.02990185, -0.98677274, -1.22502057,  0.74518671,\n",
       "         1.620831  ,  1.77733341],\n",
       "       [-0.88631438, -0.80103477, -0.28486923, -0.36913007, -0.16387702,\n",
       "        -0.31951107,  0.54542507],\n",
       "       [-0.88631438, -0.45773416, -0.46684422, -0.31475029,  0.18576288,\n",
       "         0.23487238, -0.68648327],\n",
       "       [-0.88631438, -1.08711862, -1.40271555, -1.14817957,  2.35353023,\n",
       "        -0.04231935, -0.68648327],\n",
       "       [-0.88631438, -0.97268508, -0.72680848, -0.96494335, -0.47855293,\n",
       "         0.23487238,  0.54542507],\n",
       "       [ 0.26898098,  0.48634254, -0.88278703,  0.50331079,  1.93396235,\n",
       "        -0.31951107, -0.68648327],\n",
       "       [-0.88631438, -0.89639605, -1.11675487, -0.93538912, -0.19884101,\n",
       "         1.34363928, -0.68648327]])"
      ]
     },
     "execution_count": 48,
     "metadata": {},
     "output_type": "execute_result"
    }
   ],
   "source": [
    "# # (WRONG ANSWER)\n",
    "\n",
    "# # Scale the data\n",
    "\n",
    "# scaler = StandardScaler()\n",
    "\n",
    "# #everything you do to Train must be done to Test \n",
    "\n",
    "# scaler.fit(X_test)\n",
    "\n",
    "# scaler.fit(X_train)\n",
    "\n",
    "# X_train_scaled = scaler.transform(X_train)\n",
    "\n",
    "# X_test_scaled = scaler.transform(X_test)\n",
    "\n",
    "# X_train_scaled\n",
    "# X_test_scaled"
   ]
  },
  {
   "cell_type": "markdown",
   "metadata": {},
   "source": [
    "### 7) Explore the `target` column and our model-less baseline\n",
    "\n",
    "1. What is the breakdown of the `target` column in our training data?\n",
    "2. What would a model-less baseline look like in this context?\n",
    "3. How accurate would that model-less understanding be on our test data?"
   ]
  },
  {
   "cell_type": "code",
   "execution_count": 15,
   "metadata": {
    "scrolled": true
   },
   "outputs": [
    {
     "name": "stdout",
     "output_type": "stream",
     "text": [
      "0    0.744275\n",
      "1    0.255725\n",
      "Name: target, dtype: float64\n"
     ]
    }
   ],
   "source": [
    "target_breakdown = y_train.value_counts(normalize=True)\n",
    "\n",
    "\n",
    "print(target_breakdown)"
   ]
  },
  {
   "cell_type": "code",
   "execution_count": null,
   "metadata": {},
   "outputs": [],
   "source": [
    "# A mode-less baseline would predict 74% are target =0 and 26% are target =1  \n",
    "\n",
    "\n",
    "#Correct Answer - it would always predict 0 for every observation and that will yeild a 74% accuracy "
   ]
  },
  {
   "cell_type": "code",
   "execution_count": null,
   "metadata": {},
   "outputs": [],
   "source": []
  },
  {
   "cell_type": "code",
   "execution_count": null,
   "metadata": {},
   "outputs": [],
   "source": [
    "# call_on_students(1)"
   ]
  },
  {
   "cell_type": "markdown",
   "metadata": {},
   "source": [
    "#### Part 1: explore the target column breakdown in train data"
   ]
  },
  {
   "cell_type": "code",
   "execution_count": 16,
   "metadata": {},
   "outputs": [
    {
     "name": "stdout",
     "output_type": "stream",
     "text": [
      "0    0.744275\n",
      "1    0.255725\n",
      "Name: target, dtype: float64\n"
     ]
    }
   ],
   "source": [
    "# Code to explore\n",
    "target_breakdown = y_train.value_counts(normalize=True)\n",
    "\n",
    "\n",
    "print(target_breakdown)"
   ]
  },
  {
   "cell_type": "markdown",
   "metadata": {},
   "source": [
    "#### Answer:\n",
    "\n",
    "- \n"
   ]
  },
  {
   "cell_type": "markdown",
   "metadata": {},
   "source": [
    "#### Part 2: What would a model-less baseline look like in this context?\n",
    "\n",
    "#### Answer:\n",
    "\n",
    "- predict 0 all time and have 74% accuracy\n"
   ]
  },
  {
   "cell_type": "markdown",
   "metadata": {},
   "source": [
    "#### Part 3: How accurate would that baseline be on test data?\n"
   ]
  },
  {
   "cell_type": "code",
   "execution_count": 50,
   "metadata": {
    "scrolled": true
   },
   "outputs": [],
   "source": [
    "# Code to find the answer\n",
    "# 74.4%"
   ]
  },
  {
   "cell_type": "markdown",
   "metadata": {},
   "source": [
    "#### Answer:\n",
    "\n",
    "- \n"
   ]
  },
  {
   "cell_type": "markdown",
   "metadata": {},
   "source": [
    "### 8) What is one problem you could foresee based on this breakdown, and what is one strategy you could employ to address that problem?"
   ]
  },
  {
   "cell_type": "code",
   "execution_count": 51,
   "metadata": {},
   "outputs": [],
   "source": [
    "# call_on_students(1)\n",
    "\n",
    "# Stratifying the train test split\n",
    "# SMOTE (synthetic data) "
   ]
  },
  {
   "cell_type": "markdown",
   "metadata": {},
   "source": [
    "#### Answer:\n",
    "\n",
    "- Stratifying the train test split\n",
    "- SMOTE (synthetic data) \n",
    "- Over sample under sample\n"
   ]
  },
  {
   "cell_type": "markdown",
   "metadata": {},
   "source": [
    "### 9) Fit a logistic regression model, and plot a confusion matrix of the results on our test set"
   ]
  },
  {
   "cell_type": "code",
   "execution_count": 20,
   "metadata": {},
   "outputs": [],
   "source": [
    "# call_on_students(1)\n",
    "from sklearn.metrics import confusion_matrix, plot_confusion_matrix\n",
    "import matplotlib.pyplot as plt"
   ]
  },
  {
   "cell_type": "code",
   "execution_count": 21,
   "metadata": {},
   "outputs": [
    {
     "data": {
      "text/plain": [
       "LogisticRegression(random_state=42)"
      ]
     },
     "execution_count": 21,
     "metadata": {},
     "output_type": "execute_result"
    }
   ],
   "source": [
    "# Fit a logistic regression model\n",
    "# Name the model `logreg` and set random_state = 42\n",
    "logreg = LogisticRegression(random_state=42)\n",
    "\n",
    "logreg.fit(X_train_scaled, y_train)"
   ]
  },
  {
   "cell_type": "code",
   "execution_count": 22,
   "metadata": {},
   "outputs": [
    {
     "data": {
      "image/png": "[encoded data removed]",
      "text/plain": [
       "<Figure size 432x288 with 2 Axes>"
      ]
     },
     "metadata": {
      "needs_background": "light"
     },
     "output_type": "display_data"
    }
   ],
   "source": [
    "# Plot a confusion matrix on the test data\n",
    "y_pred = logreg.predict(X_test_scaled)\n",
    "\n",
    "cm = confusion_matrix(y_test, y_pred)\n",
    "\n",
    "plot_confusion_matrix(logreg, X_test_scaled, y_test)\n",
    "plt.title('Confusion Matrix')\n",
    "plt.show()"
   ]
  },
  {
   "cell_type": "markdown",
   "metadata": {},
   "source": [
    "### 10) Calculate the accuracy, precision, recall and f1-score for the test set\n",
    "\n",
    "You can use the confusion matrix above, or sklearn functions"
   ]
  },
  {
   "cell_type": "code",
   "execution_count": 28,
   "metadata": {},
   "outputs": [],
   "source": [
    "# call_on_students(1)\n",
    "from sklearn.metrics import accuracy_score\n",
    "from sklearn.metrics import precision_score\n",
    "from sklearn.metrics import recall_score"
   ]
  },
  {
   "cell_type": "code",
   "execution_count": 24,
   "metadata": {},
   "outputs": [
    {
     "data": {
      "text/plain": [
       "0.9230769230769231"
      ]
     },
     "execution_count": 24,
     "metadata": {},
     "output_type": "execute_result"
    }
   ],
   "source": [
    "# Accuracy\n",
    "accuracy =  accuracy_score(y_test, y_pred)\n",
    "\n",
    "accuracy"
   ]
  },
  {
   "cell_type": "code",
   "execution_count": null,
   "metadata": {},
   "outputs": [],
   "source": [
    "accuracy_score"
   ]
  },
  {
   "cell_type": "code",
   "execution_count": 27,
   "metadata": {},
   "outputs": [
    {
     "data": {
      "text/plain": [
       "0.9583333333333334"
      ]
     },
     "execution_count": 27,
     "metadata": {},
     "output_type": "execute_result"
    }
   ],
   "source": [
    "# Precision\n",
    "precision = precision_score(y_test, y_pred)\n",
    "precision"
   ]
  },
  {
   "cell_type": "code",
   "execution_count": 30,
   "metadata": {},
   "outputs": [
    {
     "data": {
      "text/plain": [
       "0.71875"
      ]
     },
     "execution_count": 30,
     "metadata": {},
     "output_type": "execute_result"
    }
   ],
   "source": [
    "# Recall\n",
    "recall = recall_score(y_test, y_pred)\n",
    "recall"
   ]
  },
  {
   "cell_type": "code",
   "execution_count": 31,
   "metadata": {},
   "outputs": [
    {
     "data": {
      "text/plain": [
       "0.8214285714285714"
      ]
     },
     "execution_count": 31,
     "metadata": {},
     "output_type": "execute_result"
    }
   ],
   "source": [
    "# F1-Score\n",
    "f1 = f1_score(y_test, y_pred)\n",
    "\n",
    "f1\n",
    "\n"
   ]
  },
  {
   "cell_type": "markdown",
   "metadata": {},
   "source": [
    "### 11) Calculate the ROC-AUC on the test set, and plot the ROC curve\n",
    "\n",
    "For this you'll definitely want to use the sklearn functions!"
   ]
  },
  {
   "cell_type": "code",
   "execution_count": 37,
   "metadata": {},
   "outputs": [],
   "source": [
    "# call_on_students(1)\n",
    "from sklearn.metrics import roc_auc_score, roc_curve\n",
    "import matplotlib.pyplot as plt"
   ]
  },
  {
   "cell_type": "code",
   "execution_count": 56,
   "metadata": {},
   "outputs": [],
   "source": [
    "#(WRONG ANSWER)\n",
    "\n",
    "# # Calculate roc-auc\n",
    "# y_pred_proba = logreg.predict_proba(X_test_scaled)[:, 1]\n",
    "\n",
    "# roc_auc = roc_auc_score(y_test, y_pred_proba)\n",
    "\n",
    "# roc_auc"
   ]
  },
  {
   "cell_type": "code",
   "execution_count": 52,
   "metadata": {},
   "outputs": [
    {
     "data": {
      "text/plain": [
       "0.8596938775510203"
      ]
     },
     "execution_count": 52,
     "metadata": {},
     "output_type": "execute_result"
    }
   ],
   "source": [
    "roc_auc = roc_auc_score(y_test, y_pred)\n",
    "\n",
    "roc_auc"
   ]
  },
  {
   "cell_type": "code",
   "execution_count": 55,
   "metadata": {},
   "outputs": [
    {
     "data": {
      "text/plain": [
       "<sklearn.metrics._plot.roc_curve.RocCurveDisplay at 0x19eeeea6d60>"
      ]
     },
     "execution_count": 55,
     "metadata": {},
     "output_type": "execute_result"
    },
    {
     "data": {
      "image/png": "[encoded data removed]",
      "text/plain": [
       "<Figure size 432x288 with 1 Axes>"
      ]
     },
     "metadata": {
      "needs_background": "light"
     },
     "output_type": "display_data"
    }
   ],
   "source": [
    "plot_roc_curve(logreg, X_test_scaled, y_test)"
   ]
  },
  {
   "cell_type": "code",
   "execution_count": 53,
   "metadata": {
    "collapsed": true
   },
   "outputs": [
    {
     "data": {
      "image/png": "[encoded data removed]",
      "text/plain": [
       "<Figure size 432x288 with 1 Axes>"
      ]
     },
     "metadata": {
      "needs_background": "light"
     },
     "output_type": "display_data"
    }
   ],
   "source": [
    "# # Plot the ROC curve\n",
    "# fpr, tpr, thresholds = roc_curve(y_test, y_pred_proba)\n",
    "\n",
    "# plt.plot(fpr, tpr, label='ROC Curve (AUC = %0.2f)' % roc_auc)\n",
    "# plt.plot([0, 1], [0, 1], 'r--', label='Random Guessing')\n",
    "# plt.xlabel('False Positive Rate')\n",
    "# plt.ylabel('True Positive Rate')\n",
    "# plt.title('Receiver Operating Characteristic (ROC) Curve')\n",
    "# plt.legend()\n",
    "# plt.show()"
   ]
  },
  {
   "cell_type": "markdown",
   "metadata": {},
   "source": [
    "### 12) Evaluate! Based on the metrics of our test data, how is our model doing?"
   ]
  },
  {
   "cell_type": "code",
   "execution_count": null,
   "metadata": {},
   "outputs": [],
   "source": [
    "# call_on_students(1)"
   ]
  },
  {
   "cell_type": "markdown",
   "metadata": {},
   "source": [
    "#### Answer:\n",
    "\n",
    "- that looks pretty great\n"
   ]
  },
  {
   "cell_type": "markdown",
   "metadata": {},
   "source": [
    "## Part 4: Decision Trees\n",
    "\n",
    "### Set Up - Generating 1-split trees to compare"
   ]
  },
  {
   "cell_type": "code",
   "execution_count": 39,
   "metadata": {
    "scrolled": true
   },
   "outputs": [
    {
     "data": {
      "text/plain": [
       "DecisionTreeClassifier(max_depth=1, random_state=42)"
      ]
     },
     "execution_count": 39,
     "metadata": {},
     "output_type": "execute_result"
    }
   ],
   "source": [
    "# Creating two different decision trees with a single split\n",
    "dt_maxdepth1_v1 = DecisionTreeClassifier(max_depth=1, random_state = 42)\n",
    "dt_maxdepth1_v2 = DecisionTreeClassifier(max_depth=1, random_state = 42)\n",
    "\n",
    "# Training the two trees on different columns\n",
    "dt_maxdepth1_v1.fit(X_train[['weight']], y_train)\n",
    "dt_maxdepth1_v2.fit(X_train[['origin']], y_train)"
   ]
  },
  {
   "cell_type": "code",
   "execution_count": 40,
   "metadata": {
    "scrolled": false
   },
   "outputs": [
    {
     "data": {
      "image/png": "[encoded data removed]",
      "text/plain": [
       "<Figure size 432x288 with 1 Axes>"
      ]
     },
     "metadata": {
      "needs_background": "light"
     },
     "output_type": "display_data"
    }
   ],
   "source": [
    "# Tree based on 1st column\n",
    "plot_tree(dt_maxdepth1_v1, feature_names=['weight'], filled=True);"
   ]
  },
  {
   "cell_type": "code",
   "execution_count": 41,
   "metadata": {},
   "outputs": [
    {
     "data": {
      "image/png": "[encoded data removed]",
      "text/plain": [
       "<Figure size 432x288 with 1 Axes>"
      ]
     },
     "metadata": {
      "needs_background": "light"
     },
     "output_type": "display_data"
    }
   ],
   "source": [
    "# Tree based on 2nd column\n",
    "plot_tree(dt_maxdepth1_v2, feature_names=['origin'], filled=True);"
   ]
  },
  {
   "cell_type": "markdown",
   "metadata": {},
   "source": [
    "#### Result: \n",
    "\n",
    "(showing the image output incase there is a problem with the above code to generate and visualize these trees)\n",
    "\n",
    "| Version 1: Weight | Version 2: Origin |\n",
    "| ----------------- | ----------------- |  \n",
    "| ![max depth 1 - version 1](images/dt-maxdepth1-v1.png) | ![max depth 1 - version 2](images/dt-maxdepth1-v2.png) |"
   ]
  },
  {
   "cell_type": "markdown",
   "metadata": {},
   "source": [
    "### 13) Which of these trees does a better job splitting the data? How can you tell?"
   ]
  },
  {
   "cell_type": "code",
   "execution_count": 57,
   "metadata": {},
   "outputs": [],
   "source": [
    "# call_on_students(1)\n",
    "#look at model with the lowest max Gini in the child steps \n"
   ]
  },
  {
   "cell_type": "markdown",
   "metadata": {},
   "source": [
    "#### Answer:\n",
    "\n",
    "- \n"
   ]
  },
  {
   "cell_type": "markdown",
   "metadata": {},
   "source": [
    "### 14) Fit a decision tree model, and plot a confusion matrix of the results on our test set"
   ]
  },
  {
   "cell_type": "code",
   "execution_count": null,
   "metadata": {},
   "outputs": [],
   "source": [
    "# call_on_students(1)"
   ]
  },
  {
   "cell_type": "code",
   "execution_count": 42,
   "metadata": {},
   "outputs": [],
   "source": [
    "# Fit a decision tree model\n",
    "# Name the model `dt` and set random_state = 42\n",
    "dt = DecisionTreeClassifier(random_state=42)\n",
    "dt.fit(X_train, y_train)\n",
    "y_pred = dt.predict(X_test)"
   ]
  },
  {
   "cell_type": "code",
   "execution_count": 44,
   "metadata": {
    "scrolled": true
   },
   "outputs": [
    {
     "data": {
      "image/png": "[encoded data removed]",
      "text/plain": [
       "<Figure size 432x288 with 2 Axes>"
      ]
     },
     "metadata": {
      "needs_background": "light"
     },
     "output_type": "display_data"
    }
   ],
   "source": [
    "# Plot a confusion matrix on the test data\n",
    "cm = confusion_matrix(y_test, y_pred)\n",
    "plot_confusion_matrix(dt, X_test, y_test)\n",
    "plt.show()\n"
   ]
  },
  {
   "cell_type": "code",
   "execution_count": 45,
   "metadata": {},
   "outputs": [
    {
     "data": {
      "image/png": "[encoded data removed]",
      "text/plain": [
       "<Figure size 432x288 with 1 Axes>"
      ]
     },
     "metadata": {
      "needs_background": "light"
     },
     "output_type": "display_data"
    }
   ],
   "source": [
    "# Code to visualize the ROC curves for the models we've done\n",
    "fig, ax = plt.subplots()\n",
    "plot_roc_curve(dt, X_test_scaled, y_test, ax=ax)\n",
    "plot_roc_curve(logreg, X_test_scaled, y_test, ax=ax)\n",
    "\n",
    "plt.title(\"Receiver Operating Characteristic Curves\\n(Evaluated on Test Set)\")\n",
    "plt.show()"
   ]
  },
  {
   "cell_type": "markdown",
   "metadata": {},
   "source": [
    "### 15) Which is the better model according to ROC-AUC score? How can you tell?"
   ]
  },
  {
   "cell_type": "code",
   "execution_count": null,
   "metadata": {},
   "outputs": [],
   "source": [
    "# call_on_students(1)"
   ]
  },
  {
   "cell_type": "markdown",
   "metadata": {},
   "source": [
    "#### Answer:\n",
    "\n",
    "- Logreg is better, more area under the curve \n",
    "\n",
    "\n",
    "\n",
    "- Think of thew name logloss .... I want a smaller number\n"
   ]
  },
  {
   "cell_type": "code",
   "execution_count": null,
   "metadata": {},
   "outputs": [],
   "source": []
  }
 ],
 "metadata": {
  "kernelspec": {
   "display_name": "learn-env",
   "language": "python",
   "name": "learn-env"
  },
  "language_info": {
   "codemirror_mode": {
    "name": "ipython",
    "version": 3
   },
   "file_extension": ".py",
   "mimetype": "text/x-python",
   "name": "python",
   "nbconvert_exporter": "python",
   "pygments_lexer": "ipython3",
   "version": "3.8.5"
  },
  "toc": {
   "base_numbering": 1,
   "nav_menu": {},
   "number_sections": true,
   "sideBar": true,
   "skip_h1_title": false,
   "title_cell": "Table of Contents",
   "title_sidebar": "Contents",
   "toc_cell": false,
   "toc_position": {},
   "toc_section_display": true,
   "toc_window_display": false
  },
  "varInspector": {
   "cols": {
    "lenName": 16,
    "lenType": 16,
    "lenVar": 40
   },
   "kernels_config": {
    "python": {
     "delete_cmd_postfix": "",
     "delete_cmd_prefix": "del ",
     "library": "var_list.py",
     "varRefreshCmd": "print(var_dic_list())"
    },
    "r": {
     "delete_cmd_postfix": ") ",
     "delete_cmd_prefix": "rm(",
     "library": "var_list.r",
     "varRefreshCmd": "cat(var_dic_list()) "
    }
   },
   "types_to_exclude": [
    "module",
    "function",
    "builtin_function_or_method",
    "instance",
    "_Feature"
   ],
   "window_display": false
  }
 },
 "nbformat": 4,
 "nbformat_minor": 2
}
