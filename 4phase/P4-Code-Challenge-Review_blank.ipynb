{
 "cells": [
  {
   "cell_type": "markdown",
   "metadata": {
    "index": 0
   },
   "source": [
    "# Phase 4 Code Challenge Review\n",
    "\n",
    "Made using resources that Max put together, thanks Max!"
   ]
  },
  {
   "cell_type": "markdown",
   "metadata": {},
   "source": [
    "## Overview\n",
    "\n",
    "- Principal Component Analysis\n",
    "- Clustering\n",
    "- Time Series\n",
    "- Natural Language Processing"
   ]
  },
  {
   "cell_type": "code",
   "execution_count": 1,
   "metadata": {
    "ExecuteTime": {
     "end_time": "2023-06-05T20:28:21.200374Z",
     "start_time": "2023-06-05T20:28:20.670592Z"
    }
   },
   "outputs": [],
   "source": [
    "# Basic Imports\n",
    "import pandas as pd\n",
    "import numpy as np\n",
    "import matplotlib.pyplot as plt"
   ]
  },
  {
   "cell_type": "code",
   "execution_count": 2,
   "metadata": {
    "ExecuteTime": {
     "end_time": "2023-06-05T20:28:22.018944Z",
     "start_time": "2023-06-05T20:28:21.999942Z"
    }
   },
   "outputs": [],
   "source": [
    "from src.call import call_on_students"
   ]
  },
  {
   "cell_type": "markdown",
   "metadata": {},
   "source": [
    "# 1) Principal Component Analysis\n",
    "\n",
    "![pca gif saved from learnco](images/pca.gif)"
   ]
  },
  {
   "cell_type": "markdown",
   "metadata": {},
   "source": [
    "## PCA Concepts"
   ]
  },
  {
   "cell_type": "markdown",
   "metadata": {},
   "source": [
    "### 1: What does PCA do? \n",
    "\n",
    "Specifically, describe what the first principal component represents in relation to the original data."
   ]
  },
  {
   "cell_type": "code",
   "execution_count": 3,
   "metadata": {},
   "outputs": [],
   "source": [
    "# # call_on_students(1)\n",
    "\n",
    "\n",
    "# PCA (Principal Component Analysis) is a dimensionality reduction technique used to transform a dataset with potentially \n",
    "# high-dimensional features into a lower-dimensional space. It aims to find a new set of orthogonal axes, called principal \n",
    "# components, that capture the maximum amount of variance in the original data.\n",
    "\n",
    "# The first principal component represents the direction in the feature space along which the data varies the most. \n",
    "# It captures the largest possible variance and is obtained by finding the linear combination of the original features \n",
    "# that maximizes the explained variance. In other words, the first principal component is the axis that accounts for the \n",
    "# most significant and dominant patterns or trends in the data.\n"
   ]
  },
  {
   "cell_type": "markdown",
   "metadata": {},
   "source": [
    "#### Answer: \n",
    "\n",
    "- PCA (Principal Component Analysis) is a dimensionality reduction technique used to transform a dataset with potentially high-dimensional features into a lower-dimensional space. It aims to find a new set of orthogonal axes, called principal components, that capture the maximum amount of variance in the original data.\n",
    "\n",
    "- The first principal component represents the direction in the feature space along which the data varies the most. It captures the largest possible variance and is obtained by finding the linear combination of the original features that maximizes the explained variance. In other words, the first principal component is the axis that accounts for the most significant and dominant patterns or trends in the data.\n"
   ]
  },
  {
   "cell_type": "markdown",
   "metadata": {},
   "source": [
    "### 2: What are some reasons to use PCA?"
   ]
  },
  {
   "cell_type": "code",
   "execution_count": null,
   "metadata": {},
   "outputs": [],
   "source": [
    "# call_on_students(1)"
   ]
  },
  {
   "cell_type": "markdown",
   "metadata": {},
   "source": [
    "#### Answer: \n",
    "\n",
    "- Dimensionality reduction: One of the main reasons for using PCA is to reduce the dimensionality of a dataset. When dealing with high-dimensional data, PCA can help simplify the analysis by transforming the data into a lower-dimensional space while retaining as much information as possible. This can be particularly useful when working with datasets that have a large number of features, as it reduces computational complexity and can improve model performance.\n",
    "\n",
    "- Feature selection: PCA can also be used as a feature selection technique. By identifying the most important principal components, which capture the most variance in the data, one can prioritize those components and discard the less important ones. This can be beneficial in situations where there is a need to prioritize a subset of features for further analysis or modeling.\n",
    "\n",
    "- Visualization: PCA enables the visualization of high-dimensional data in a lower-dimensional space. By reducing the data to a few principal components, it becomes possible to plot the data points in a scatter plot or other visualization techniques. This allows for better understanding of the data's structure, patterns, and relationships between data points.\n",
    "\n",
    "- Data preprocessing: PCA can be used as a preprocessing step before applying other machine learning algorithms. By reducing the dimensionality and removing correlated features, PCA can improve the performance of algorithms that are sensitive to the curse of dimensionality or that assume feature independence.\n",
    "\n",
    "- Noise reduction: PCA can help in filtering out noise or irrelevant information from the data. The components with low variances can be considered as noise or uninformative features, and by discarding those components, one can focus on the most relevant information.\n",
    "\n",
    "- Multicollinearity detection: PCA can detect and handle multicollinearity, which refers to the high correlation between independent variables in a dataset. By transforming the original features into uncorrelated principal components, PCA reduces the multicollinearity issue and provides a more reliable representation of the data.\n",
    "\n",
    "- Compression and storage: PCA can be used for data compression, allowing for efficient storage and transmission of large datasets. By representing the data with a reduced number of principal components, the overall storage requirements can be significantly reduced while maintaining a reasonable amount of information.\n",
    "\n",
    "- It's important to note that PCA is a linear transformation technique and may not capture nonlinear relationships in the data. In such cases, alternative methods like kernel PCA or nonlinear dimensionality reduction techniques may be more appropriate.\n"
   ]
  },
  {
   "cell_type": "markdown",
   "metadata": {},
   "source": [
    "### 3: Why is scaling important for PCA?"
   ]
  },
  {
   "cell_type": "code",
   "execution_count": null,
   "metadata": {},
   "outputs": [],
   "source": [
    "# call_on_students(1)"
   ]
  },
  {
   "cell_type": "markdown",
   "metadata": {},
   "source": [
    "#### Answer: \n",
    "\n",
    "- Scaling is important for PCA (Principal Component Analysis) because it ensures that all variables contribute equally to the analysis and prevents the influence of variables with larger scales dominating the results.\n",
    "\n",
    "- PCA is a variance-based method that relies on the relative magnitudes of variables to determine the principal components. Variables with larger scales tend to have larger variances, and if scaling is not applied, PCA will be biased towards those variables with larger variances. This can lead to misleading results and interpretations.\n",
    "\n",
    "- Here are a few reasons why scaling is important for PCA:\n",
    "\n",
    "- Avoiding dominance of variables: Variables with larger scales can dominate the calculation of the principal components simply because their values are larger. This can overshadow the contributions of variables with smaller scales, leading to an inaccurate representation of the data's structure. Scaling the variables ensures that each variable contributes proportionally to the analysis.\n",
    "\n",
    "- Handling different units of measurement: Variables measured in different units or with different scales may have different variances. Without scaling, PCA may give more importance to variables with larger variances, even if they are not necessarily more informative or relevant. Scaling brings variables to a similar scale and treats them equally in terms of their contribution to the principal components.\n",
    "\n",
    "- Mitigating the impact of outliers: Scaling can help mitigate the impact of outliers on PCA results. Outliers, which are extreme values in the dataset, can disproportionately affect the covariance matrix calculation in PCA. Scaling reduces the effect of outliers by bringing the variables to a comparable range and limiting their influence on the principal components.\n",
    "\n",
    "- Improving numerical stability: Scaling can improve the numerical stability of PCA calculations. Variables with large values or different orders of magnitude can introduce numerical instability and computational issues. Scaling the variables helps in avoiding numerical instability and ensures robustness in the PCA calculations.\n",
    "\n",
    "- It's important to note that the specific scaling method used in PCA can depend on the nature of the data and the goals of the analysis. Common scaling techniques include standardization (subtracting the mean and dividing by the standard deviation), normalization (scaling to a range between 0 and 1), and centering (subtracting the mean without dividing by the standard deviation). The choice of scaling method should be made based on the characteristics and requirements of the data.\n"
   ]
  },
  {
   "cell_type": "markdown",
   "metadata": {},
   "source": [
    "### 4: How can one determine how many principle components to use in a model?"
   ]
  },
  {
   "cell_type": "code",
   "execution_count": null,
   "metadata": {},
   "outputs": [],
   "source": [
    "# call_on_students(1)"
   ]
  },
  {
   "cell_type": "markdown",
   "metadata": {},
   "source": [
    "#### Answer: \n",
    "\n",
    "- Scree Plot: The scree plot displays the explained variance ratio for each principal component in descending order. It allows you to visually inspect the \"elbow\" point, where the explained variance begins to level off. Selecting the number of components before the elbow point can be a reasonable choice.\n",
    "\n",
    "# Generate scree plot\n",
    "- plt.plot(range(1, len(pca.explained_variance_ratio_) + 1), pca.explained_variance_ratio_, 'bo-')\n",
    "- plt.xlabel('Principal Component')\n",
    "- plt.ylabel('Explained Variance Ratio')\n",
    "- plt.title('Scree Plot')\n",
    "- plt.show()\n",
    "- Cumulative Explained Variance: Another approach is to examine the cumulative explained variance ratio. This plot shows the cumulative sum of the explained variance ratios as the number of components increases. Selecting the number of components that explain a high percentage of the total variance (e.g., 90% or more) can be a guideline.\n",
    "\n",
    "# Calculate cumulative explained variance\n",
    "- cumulative_explained_variance = np.cumsum(pca.explained_variance_ratio_)\n",
    "\n",
    "# Generate cumulative explained variance plot\n",
    "- plt.plot(range(1, len(cumulative_explained_variance) + 1), cumulative_explained_variance, 'bo-')\n",
    "- plt.xlabel('Number of Components')\n",
    "- plt.ylabel('Cumulative Explained Variance')\n",
    "- plt.title('Cumulative Explained Variance Plot')\n",
    "- plt.show()\n",
    "\n",
    "- Information Criteria: Information criteria such as Akaike Information Criterion (AIC) or Bayesian Information Criterion (BIC) can be used to evaluate the goodness of fit for different numbers of components. Lower values of AIC or BIC indicate better model fit. These criteria can help in selecting the optimal number of components based on statistical metrics.\n",
    "\n",
    "- Cross-validation: Utilize cross-validation techniques to assess the performance of the model with different numbers of components. By evaluating metrics such as mean squared error or classification accuracy for various component counts, you can select the number of components that provides the best performance.\n",
    "\n",
    "- Domain Knowledge: Consider the domain-specific context and requirements of your problem. Some datasets or applications may have inherent characteristics or constraints that guide the choice of the number of components. For example, in image processing, retaining components that capture significant visual features may be important.\n",
    "\n",
    "- Practical Considerations: Sometimes, the number of components is determined by practical considerations, such as computational limitations or the desire to keep the model interpretable. Using a smaller number of components may be preferred in such cases."
   ]
  },
  {
   "cell_type": "markdown",
   "metadata": {
    "index": 16
   },
   "source": [
    "## PCA in Code\n",
    "\n",
    "### Set Up"
   ]
  },
  {
   "cell_type": "code",
   "execution_count": 10,
   "metadata": {
    "index": 17
   },
   "outputs": [
    {
     "data": {
      "text/html": [
       "<div>\n",
       "<style scoped>\n",
       "    .dataframe tbody tr th:only-of-type {\n",
       "        vertical-align: middle;\n",
       "    }\n",
       "\n",
       "    .dataframe tbody tr th {\n",
       "        vertical-align: top;\n",
       "    }\n",
       "\n",
       "    .dataframe thead th {\n",
       "        text-align: right;\n",
       "    }\n",
       "</style>\n",
       "<table border=\"1\" class=\"dataframe\">\n",
       "  <thead>\n",
       "    <tr style=\"text-align: right;\">\n",
       "      <th></th>\n",
       "      <th>mean radius</th>\n",
       "      <th>mean texture</th>\n",
       "      <th>mean perimeter</th>\n",
       "      <th>mean area</th>\n",
       "      <th>mean smoothness</th>\n",
       "      <th>mean compactness</th>\n",
       "      <th>mean concavity</th>\n",
       "      <th>mean concave points</th>\n",
       "      <th>mean symmetry</th>\n",
       "      <th>mean fractal dimension</th>\n",
       "      <th>...</th>\n",
       "      <th>worst radius</th>\n",
       "      <th>worst texture</th>\n",
       "      <th>worst perimeter</th>\n",
       "      <th>worst area</th>\n",
       "      <th>worst smoothness</th>\n",
       "      <th>worst compactness</th>\n",
       "      <th>worst concavity</th>\n",
       "      <th>worst concave points</th>\n",
       "      <th>worst symmetry</th>\n",
       "      <th>worst fractal dimension</th>\n",
       "    </tr>\n",
       "  </thead>\n",
       "  <tbody>\n",
       "    <tr>\n",
       "      <th>0</th>\n",
       "      <td>17.99</td>\n",
       "      <td>10.38</td>\n",
       "      <td>122.80</td>\n",
       "      <td>1001.0</td>\n",
       "      <td>0.11840</td>\n",
       "      <td>0.27760</td>\n",
       "      <td>0.3001</td>\n",
       "      <td>0.14710</td>\n",
       "      <td>0.2419</td>\n",
       "      <td>0.07871</td>\n",
       "      <td>...</td>\n",
       "      <td>25.38</td>\n",
       "      <td>17.33</td>\n",
       "      <td>184.60</td>\n",
       "      <td>2019.0</td>\n",
       "      <td>0.1622</td>\n",
       "      <td>0.6656</td>\n",
       "      <td>0.7119</td>\n",
       "      <td>0.2654</td>\n",
       "      <td>0.4601</td>\n",
       "      <td>0.11890</td>\n",
       "    </tr>\n",
       "    <tr>\n",
       "      <th>1</th>\n",
       "      <td>20.57</td>\n",
       "      <td>17.77</td>\n",
       "      <td>132.90</td>\n",
       "      <td>1326.0</td>\n",
       "      <td>0.08474</td>\n",
       "      <td>0.07864</td>\n",
       "      <td>0.0869</td>\n",
       "      <td>0.07017</td>\n",
       "      <td>0.1812</td>\n",
       "      <td>0.05667</td>\n",
       "      <td>...</td>\n",
       "      <td>24.99</td>\n",
       "      <td>23.41</td>\n",
       "      <td>158.80</td>\n",
       "      <td>1956.0</td>\n",
       "      <td>0.1238</td>\n",
       "      <td>0.1866</td>\n",
       "      <td>0.2416</td>\n",
       "      <td>0.1860</td>\n",
       "      <td>0.2750</td>\n",
       "      <td>0.08902</td>\n",
       "    </tr>\n",
       "    <tr>\n",
       "      <th>2</th>\n",
       "      <td>19.69</td>\n",
       "      <td>21.25</td>\n",
       "      <td>130.00</td>\n",
       "      <td>1203.0</td>\n",
       "      <td>0.10960</td>\n",
       "      <td>0.15990</td>\n",
       "      <td>0.1974</td>\n",
       "      <td>0.12790</td>\n",
       "      <td>0.2069</td>\n",
       "      <td>0.05999</td>\n",
       "      <td>...</td>\n",
       "      <td>23.57</td>\n",
       "      <td>25.53</td>\n",
       "      <td>152.50</td>\n",
       "      <td>1709.0</td>\n",
       "      <td>0.1444</td>\n",
       "      <td>0.4245</td>\n",
       "      <td>0.4504</td>\n",
       "      <td>0.2430</td>\n",
       "      <td>0.3613</td>\n",
       "      <td>0.08758</td>\n",
       "    </tr>\n",
       "    <tr>\n",
       "      <th>3</th>\n",
       "      <td>11.42</td>\n",
       "      <td>20.38</td>\n",
       "      <td>77.58</td>\n",
       "      <td>386.1</td>\n",
       "      <td>0.14250</td>\n",
       "      <td>0.28390</td>\n",
       "      <td>0.2414</td>\n",
       "      <td>0.10520</td>\n",
       "      <td>0.2597</td>\n",
       "      <td>0.09744</td>\n",
       "      <td>...</td>\n",
       "      <td>14.91</td>\n",
       "      <td>26.50</td>\n",
       "      <td>98.87</td>\n",
       "      <td>567.7</td>\n",
       "      <td>0.2098</td>\n",
       "      <td>0.8663</td>\n",
       "      <td>0.6869</td>\n",
       "      <td>0.2575</td>\n",
       "      <td>0.6638</td>\n",
       "      <td>0.17300</td>\n",
       "    </tr>\n",
       "    <tr>\n",
       "      <th>4</th>\n",
       "      <td>20.29</td>\n",
       "      <td>14.34</td>\n",
       "      <td>135.10</td>\n",
       "      <td>1297.0</td>\n",
       "      <td>0.10030</td>\n",
       "      <td>0.13280</td>\n",
       "      <td>0.1980</td>\n",
       "      <td>0.10430</td>\n",
       "      <td>0.1809</td>\n",
       "      <td>0.05883</td>\n",
       "      <td>...</td>\n",
       "      <td>22.54</td>\n",
       "      <td>16.67</td>\n",
       "      <td>152.20</td>\n",
       "      <td>1575.0</td>\n",
       "      <td>0.1374</td>\n",
       "      <td>0.2050</td>\n",
       "      <td>0.4000</td>\n",
       "      <td>0.1625</td>\n",
       "      <td>0.2364</td>\n",
       "      <td>0.07678</td>\n",
       "    </tr>\n",
       "  </tbody>\n",
       "</table>\n",
       "<p>5 rows × 30 columns</p>\n",
       "</div>"
      ],
      "text/plain": [
       "   mean radius  mean texture  mean perimeter  mean area  mean smoothness  \\\n",
       "0        17.99         10.38          122.80     1001.0          0.11840   \n",
       "1        20.57         17.77          132.90     1326.0          0.08474   \n",
       "2        19.69         21.25          130.00     1203.0          0.10960   \n",
       "3        11.42         20.38           77.58      386.1          0.14250   \n",
       "4        20.29         14.34          135.10     1297.0          0.10030   \n",
       "\n",
       "   mean compactness  mean concavity  mean concave points  mean symmetry  \\\n",
       "0           0.27760          0.3001              0.14710         0.2419   \n",
       "1           0.07864          0.0869              0.07017         0.1812   \n",
       "2           0.15990          0.1974              0.12790         0.2069   \n",
       "3           0.28390          0.2414              0.10520         0.2597   \n",
       "4           0.13280          0.1980              0.10430         0.1809   \n",
       "\n",
       "   mean fractal dimension  ...  worst radius  worst texture  worst perimeter  \\\n",
       "0                 0.07871  ...         25.38          17.33           184.60   \n",
       "1                 0.05667  ...         24.99          23.41           158.80   \n",
       "2                 0.05999  ...         23.57          25.53           152.50   \n",
       "3                 0.09744  ...         14.91          26.50            98.87   \n",
       "4                 0.05883  ...         22.54          16.67           152.20   \n",
       "\n",
       "   worst area  worst smoothness  worst compactness  worst concavity  \\\n",
       "0      2019.0            0.1622             0.6656           0.7119   \n",
       "1      1956.0            0.1238             0.1866           0.2416   \n",
       "2      1709.0            0.1444             0.4245           0.4504   \n",
       "3       567.7            0.2098             0.8663           0.6869   \n",
       "4      1575.0            0.1374             0.2050           0.4000   \n",
       "\n",
       "   worst concave points  worst symmetry  worst fractal dimension  \n",
       "0                0.2654          0.4601                  0.11890  \n",
       "1                0.1860          0.2750                  0.08902  \n",
       "2                0.2430          0.3613                  0.08758  \n",
       "3                0.2575          0.6638                  0.17300  \n",
       "4                0.1625          0.2364                  0.07678  \n",
       "\n",
       "[5 rows x 30 columns]"
      ]
     },
     "execution_count": 10,
     "metadata": {},
     "output_type": "execute_result"
    }
   ],
   "source": [
    "from sklearn.datasets import  load_breast_cancer\n",
    "\n",
    "data = load_breast_cancer()\n",
    "X = pd.DataFrame(data['data'], columns = data['feature_names'])\n",
    "X.head()"
   ]
  },
  {
   "cell_type": "markdown",
   "metadata": {},
   "source": [
    "### 5: Prepare our Data for PCA\n",
    "\n",
    "What steps do we need to take to preprocess our data effectively?\n",
    "\n",
    "- \n"
   ]
  },
  {
   "cell_type": "code",
   "execution_count": null,
   "metadata": {},
   "outputs": [],
   "source": [
    "# call_on_students(1)"
   ]
  },
  {
   "cell_type": "code",
   "execution_count": 7,
   "metadata": {
    "index": 18
   },
   "outputs": [
    {
     "data": {
      "text/plain": [
       "array([[ 1.09706398e+00, -2.07333501e+00,  1.26993369e+00,\n",
       "         9.84374905e-01,  1.56846633e+00,  3.28351467e+00,\n",
       "         2.65287398e+00,  2.53247522e+00,  2.21751501e+00,\n",
       "         2.25574689e+00,  2.48973393e+00, -5.65265059e-01,\n",
       "         2.83303087e+00,  2.48757756e+00, -2.14001647e-01,\n",
       "         1.31686157e+00,  7.24026158e-01,  6.60819941e-01,\n",
       "         1.14875667e+00,  9.07083081e-01,  1.88668963e+00,\n",
       "        -1.35929347e+00,  2.30360062e+00,  2.00123749e+00,\n",
       "         1.30768627e+00,  2.61666502e+00,  2.10952635e+00,\n",
       "         2.29607613e+00,  2.75062224e+00,  1.93701461e+00],\n",
       "       [ 1.82982061e+00, -3.53632408e-01,  1.68595471e+00,\n",
       "         1.90870825e+00, -8.26962447e-01, -4.87071673e-01,\n",
       "        -2.38458552e-02,  5.48144156e-01,  1.39236330e-03,\n",
       "        -8.68652457e-01,  4.99254601e-01, -8.76243603e-01,\n",
       "         2.63326966e-01,  7.42401948e-01, -6.05350847e-01,\n",
       "        -6.92926270e-01, -4.40780058e-01,  2.60162067e-01,\n",
       "        -8.05450380e-01, -9.94437403e-02,  1.80592744e+00,\n",
       "        -3.69203222e-01,  1.53512599e+00,  1.89048899e+00,\n",
       "        -3.75611957e-01, -4.30444219e-01, -1.46748968e-01,\n",
       "         1.08708430e+00, -2.43889668e-01,  2.81189987e-01],\n",
       "       [ 1.57988811e+00,  4.56186952e-01,  1.56650313e+00,\n",
       "         1.55888363e+00,  9.42210440e-01,  1.05292554e+00,\n",
       "         1.36347845e+00,  2.03723076e+00,  9.39684817e-01,\n",
       "        -3.98007910e-01,  1.22867595e+00, -7.80083377e-01,\n",
       "         8.50928301e-01,  1.18133606e+00, -2.97005012e-01,\n",
       "         8.14973504e-01,  2.13076435e-01,  1.42482747e+00,\n",
       "         2.37035535e-01,  2.93559404e-01,  1.51187025e+00,\n",
       "        -2.39743838e-02,  1.34747521e+00,  1.45628455e+00,\n",
       "         5.27407405e-01,  1.08293217e+00,  8.54973944e-01,\n",
       "         1.95500035e+00,  1.15225500e+00,  2.01391209e-01],\n",
       "       [-7.68909287e-01,  2.53732112e-01, -5.92687167e-01,\n",
       "        -7.64463792e-01,  3.28355348e+00,  3.40290899e+00,\n",
       "         1.91589718e+00,  1.45170736e+00,  2.86738293e+00,\n",
       "         4.91091929e+00,  3.26373441e-01, -1.10409044e-01,\n",
       "         2.86593405e-01, -2.88378148e-01,  6.89701660e-01,\n",
       "         2.74428041e+00,  8.19518384e-01,  1.11500701e+00,\n",
       "         4.73268037e+00,  2.04751088e+00, -2.81464464e-01,\n",
       "         1.33984094e-01, -2.49939304e-01, -5.50021228e-01,\n",
       "         3.39427470e+00,  3.89339743e+00,  1.98958826e+00,\n",
       "         2.17578601e+00,  6.04604135e+00,  4.93501034e+00],\n",
       "       [ 1.75029663e+00, -1.15181643e+00,  1.77657315e+00,\n",
       "         1.82622928e+00,  2.80371830e-01,  5.39340452e-01,\n",
       "         1.37101143e+00,  1.42849277e+00, -9.56046689e-03,\n",
       "        -5.62449981e-01,  1.27054278e+00, -7.90243702e-01,\n",
       "         1.27318941e+00,  1.19035676e+00,  1.48306716e+00,\n",
       "        -4.85198799e-02,  8.28470780e-01,  1.14420474e+00,\n",
       "        -3.61092272e-01,  4.99328134e-01,  1.29857524e+00,\n",
       "        -1.46677038e+00,  1.33853946e+00,  1.22072425e+00,\n",
       "         2.20556166e-01, -3.13394511e-01,  6.13178758e-01,\n",
       "         7.29259257e-01, -8.68352984e-01, -3.97099619e-01]])"
      ]
     },
     "execution_count": 7,
     "metadata": {},
     "output_type": "execute_result"
    }
   ],
   "source": [
    "# Code to preprocess X\n",
    "\n",
    "from sklearn.preprocessing import StandardScaler\n",
    "\n",
    "scaler = StandardScaler()\n",
    "X_scaled = scaler.fit_transform(X)\n",
    "\n",
    "\n",
    "X_scaled[:5]"
   ]
  },
  {
   "cell_type": "markdown",
   "metadata": {},
   "source": [
    "### 6: Import PCA, Then Instantiate and Fit a PCA Object"
   ]
  },
  {
   "cell_type": "code",
   "execution_count": null,
   "metadata": {},
   "outputs": [],
   "source": [
    "# call_on_students(1)"
   ]
  },
  {
   "cell_type": "code",
   "execution_count": 8,
   "metadata": {
    "index": 19
   },
   "outputs": [
    {
     "data": {
      "text/html": [
       "<style>#sk-container-id-1 {color: black;background-color: white;}#sk-container-id-1 pre{padding: 0;}#sk-container-id-1 div.sk-toggleable {background-color: white;}#sk-container-id-1 label.sk-toggleable__label {cursor: pointer;display: block;width: 100%;margin-bottom: 0;padding: 0.3em;box-sizing: border-box;text-align: center;}#sk-container-id-1 label.sk-toggleable__label-arrow:before {content: \"▸\";float: left;margin-right: 0.25em;color: #696969;}#sk-container-id-1 label.sk-toggleable__label-arrow:hover:before {color: black;}#sk-container-id-1 div.sk-estimator:hover label.sk-toggleable__label-arrow:before {color: black;}#sk-container-id-1 div.sk-toggleable__content {max-height: 0;max-width: 0;overflow: hidden;text-align: left;background-color: #f0f8ff;}#sk-container-id-1 div.sk-toggleable__content pre {margin: 0.2em;color: black;border-radius: 0.25em;background-color: #f0f8ff;}#sk-container-id-1 input.sk-toggleable__control:checked~div.sk-toggleable__content {max-height: 200px;max-width: 100%;overflow: auto;}#sk-container-id-1 input.sk-toggleable__control:checked~label.sk-toggleable__label-arrow:before {content: \"▾\";}#sk-container-id-1 div.sk-estimator input.sk-toggleable__control:checked~label.sk-toggleable__label {background-color: #d4ebff;}#sk-container-id-1 div.sk-label input.sk-toggleable__control:checked~label.sk-toggleable__label {background-color: #d4ebff;}#sk-container-id-1 input.sk-hidden--visually {border: 0;clip: rect(1px 1px 1px 1px);clip: rect(1px, 1px, 1px, 1px);height: 1px;margin: -1px;overflow: hidden;padding: 0;position: absolute;width: 1px;}#sk-container-id-1 div.sk-estimator {font-family: monospace;background-color: #f0f8ff;border: 1px dotted black;border-radius: 0.25em;box-sizing: border-box;margin-bottom: 0.5em;}#sk-container-id-1 div.sk-estimator:hover {background-color: #d4ebff;}#sk-container-id-1 div.sk-parallel-item::after {content: \"\";width: 100%;border-bottom: 1px solid gray;flex-grow: 1;}#sk-container-id-1 div.sk-label:hover label.sk-toggleable__label {background-color: #d4ebff;}#sk-container-id-1 div.sk-serial::before {content: \"\";position: absolute;border-left: 1px solid gray;box-sizing: border-box;top: 0;bottom: 0;left: 50%;z-index: 0;}#sk-container-id-1 div.sk-serial {display: flex;flex-direction: column;align-items: center;background-color: white;padding-right: 0.2em;padding-left: 0.2em;position: relative;}#sk-container-id-1 div.sk-item {position: relative;z-index: 1;}#sk-container-id-1 div.sk-parallel {display: flex;align-items: stretch;justify-content: center;background-color: white;position: relative;}#sk-container-id-1 div.sk-item::before, #sk-container-id-1 div.sk-parallel-item::before {content: \"\";position: absolute;border-left: 1px solid gray;box-sizing: border-box;top: 0;bottom: 0;left: 50%;z-index: -1;}#sk-container-id-1 div.sk-parallel-item {display: flex;flex-direction: column;z-index: 1;position: relative;background-color: white;}#sk-container-id-1 div.sk-parallel-item:first-child::after {align-self: flex-end;width: 50%;}#sk-container-id-1 div.sk-parallel-item:last-child::after {align-self: flex-start;width: 50%;}#sk-container-id-1 div.sk-parallel-item:only-child::after {width: 0;}#sk-container-id-1 div.sk-dashed-wrapped {border: 1px dashed gray;margin: 0 0.4em 0.5em 0.4em;box-sizing: border-box;padding-bottom: 0.4em;background-color: white;}#sk-container-id-1 div.sk-label label {font-family: monospace;font-weight: bold;display: inline-block;line-height: 1.2em;}#sk-container-id-1 div.sk-label-container {text-align: center;}#sk-container-id-1 div.sk-container {/* jupyter's `normalize.less` sets `[hidden] { display: none; }` but bootstrap.min.css set `[hidden] { display: none !important; }` so we also need the `!important` here to be able to override the default hidden behavior on the sphinx rendered scikit-learn.org. See: https://github.com/scikit-learn/scikit-learn/issues/21755 */display: inline-block !important;position: relative;}#sk-container-id-1 div.sk-text-repr-fallback {display: none;}</style><div id=\"sk-container-id-1\" class=\"sk-top-container\"><div class=\"sk-text-repr-fallback\"><pre>PCA()</pre><b>In a Jupyter environment, please rerun this cell to show the HTML representation or trust the notebook. <br />On GitHub, the HTML representation is unable to render, please try loading this page with nbviewer.org.</b></div><div class=\"sk-container\" hidden><div class=\"sk-item\"><div class=\"sk-estimator sk-toggleable\"><input class=\"sk-toggleable__control sk-hidden--visually\" id=\"sk-estimator-id-1\" type=\"checkbox\" checked><label for=\"sk-estimator-id-1\" class=\"sk-toggleable__label sk-toggleable__label-arrow\">PCA</label><div class=\"sk-toggleable__content\"><pre>PCA()</pre></div></div></div></div></div>"
      ],
      "text/plain": [
       "PCA()"
      ]
     },
     "execution_count": 8,
     "metadata": {},
     "output_type": "execute_result"
    }
   ],
   "source": [
    "# Code to import, instantiate and fit a PCA object\n",
    "\n",
    "from sklearn.decomposition import PCA\n",
    "\n",
    "# Instantiate PCA object\n",
    "pca = PCA()\n",
    "\n",
    "# Fit PCA on the scaled data\n",
    "pca.fit(X_scaled)"
   ]
  },
  {
   "cell_type": "markdown",
   "metadata": {},
   "source": [
    "### 7: How Much Variance is Explained by the First 2 Components?"
   ]
  },
  {
   "cell_type": "code",
   "execution_count": null,
   "metadata": {},
   "outputs": [],
   "source": [
    "# call_on_students(1)"
   ]
  },
  {
   "cell_type": "code",
   "execution_count": 11,
   "metadata": {
    "index": 20
   },
   "outputs": [
    {
     "name": "stdout",
     "output_type": "stream",
     "text": [
      "Variance explained by the first two components: 63.24%\n"
     ]
    }
   ],
   "source": [
    "# Code here to answer the question\n",
    "\n",
    "explained_variance_ratio = pca.explained_variance_ratio_\n",
    "\n",
    "# Calculate the variance explained by the first two components\n",
    "variance_explained = explained_variance_ratio[:2].sum()\n",
    "\n",
    "# Print the variance explained\n",
    "print(\"Variance explained by the first two components: {:.2%}\".format(variance_explained))"
   ]
  },
  {
   "cell_type": "markdown",
   "metadata": {},
   "source": [
    "#### Answer:\n",
    "\n",
    "- 63.24%\n"
   ]
  },
  {
   "cell_type": "markdown",
   "metadata": {
    "index": 83
   },
   "source": [
    "# 2) Clustering"
   ]
  },
  {
   "cell_type": "markdown",
   "metadata": {},
   "source": [
    "## Clustering Concepts"
   ]
  },
  {
   "cell_type": "markdown",
   "metadata": {},
   "source": [
    "### 8: Describe how the K-Means algorithm updates its cluster centers after initialization."
   ]
  },
  {
   "cell_type": "code",
   "execution_count": null,
   "metadata": {},
   "outputs": [],
   "source": [
    "# call_on_students(1)"
   ]
  },
  {
   "cell_type": "markdown",
   "metadata": {},
   "source": [
    "#### Answer:\n",
    "\n",
    "- After initialization, the K-Means algorithm updates its cluster centers through an iterative process that involves the following steps:\n",
    "\n",
    "#### Assignment Step:\n",
    "- For each data point, calculate the distance to each of the cluster centers. Assign the data point to the cluster with the nearest center (based on the distance metric, typically Euclidean distance). Repeat this process for all data points, ensuring that each point is assigned to exactly one cluster.\n",
    "\n",
    "#### Update Step:\n",
    "- After the assignment step, each data point belongs to a specific cluster. Calculate the new cluster center for each cluster by taking the mean of all the data points assigned to that cluster. The new cluster center represents the centroid of the data points in that cluster.\n",
    "\n",
    "#### Iteration:\n",
    "- Repeat the assignment and update steps until a convergence criterion is met. The convergence criterion can be a maximum number of iterations or a threshold that measures the change in cluster centers between iterations. In each iteration, the algorithm adjusts the assignment of data points to clusters and updates the cluster centers based on the new assignments. The K-Means algorithm aims to minimize the within-cluster sum of squares, also known as the inertia or the sum of squared distances of data points to their respective cluster centers. It does so by iteratively updating the cluster centers to optimize this objective.\n",
    "\n",
    "- By updating the cluster centers in each iteration, the algorithm seeks to find the cluster configuration that minimizes the sum of squared distances between data points and their assigned cluster centers. The process continues until convergence, where the cluster centers stabilize, and the algorithm no longer makes significant changes to the assignments or updates.\n",
    "\n",
    "- It's important to note that K-Means is sensitive to the initial placement of cluster centers. Different initializations can lead to different results, so it is common to run the algorithm multiple times with different initializations and choose the best clustering solution based on a predefined criterion, such as the lowest inertia or highest silhouette score.\n"
   ]
  },
  {
   "cell_type": "markdown",
   "metadata": {},
   "source": [
    "### 9: What is inertia, and how does K-Means use inertia to determine the best estimator?\n",
    "\n",
    "Please also describe the method you can use to evaluate clustering using inertia.\n",
    "\n",
    "Documentation, for reference: https://scikit-learn.org/stable/modules/generated/sklearn.cluster.KMeans.html"
   ]
  },
  {
   "cell_type": "code",
   "execution_count": null,
   "metadata": {},
   "outputs": [],
   "source": [
    "# call_on_students(1)"
   ]
  },
  {
   "cell_type": "markdown",
   "metadata": {},
   "source": [
    "#### Answer:\n",
    "\n",
    "- nertia, in the context of clustering using the K-Means algorithm, is a metric that measures the quality of a clustering solution. It represents the sum of squared distances between each data point and its nearest cluster center. The lower the inertia, the better the clustering solution.\n",
    "\n",
    "- K-Means uses inertia as a measure to determine the best estimator by seeking to minimize it. The algorithm aims to find the cluster configuration that minimizes the within-cluster sum of squares. By minimizing inertia, K-Means tries to ensure that data points within each cluster are close to their respective cluster centers.\n",
    "\n",
    "- To evaluate clustering using inertia, you can follow these steps:\n",
    "\n",
    "- Fit K-Means with different values of K: Set up a loop to fit the K-Means algorithm for different values of K, the number of clusters. For each value of K, you will obtain a clustering solution.\n",
    "\n",
    "- Calculate inertia for each K: After fitting the K-Means algorithm for a specific K, you can access the inertia using the inertia_ attribute of the K-Means object. This attribute returns the inertia value for the fitted model.\n",
    "\n",
    "- Plot the inertia: Plot the inertia values for different values of K. Typically, you would plot K on the x-axis and inertia on the y-axis. The plot is known as an elbow plot or scree plot. Look for an \"elbow\" or a point of inflection in the plot, where the inertia starts to level off. This point indicates the number of clusters where adding more clusters does not significantly reduce the inertia.\n",
    "\n",
    "- Choose the number of clusters: Based on the elbow plot, you can visually identify the number of clusters that strikes a balance between low inertia and a reasonable number of clusters. This choice may depend on the specific problem, domain knowledge, or other evaluation metrics.\n",
    "\n",
    "- You can use scikit-learn's KMeans implementation to perform the above steps. The KMeans class provides the inertia_ attribute to access the inertia value for the fitted model. By examining the inertia values and the elbow plot, you can determine the appropriate number of clusters for your data.\n",
    "\n",
    "- Here's an example code snippet to evaluate clustering using inertia:\n",
    "\n",
    "##### from sklearn.cluster import KMeans\n",
    "##### import matplotlib.pyplot as plt\n",
    "\n",
    "# Fit K-Means for different values of K\n",
    "##### inertias = []\n",
    "##### ks = range(1, 11)\n",
    "##### for k in ks:\n",
    "#####    kmeans = KMeans(n_clusters=k)\n",
    "#####   kmeans.fit(X)\n",
    "#####    inertias.append(kmeans.inertia_)\n",
    "\n",
    "# Plot the inertia values\n",
    "##### plt.plot(ks, inertias, 'bo-')\n",
    "##### plt.xlabel('Number of Clusters (K)')\n",
    "##### plt.ylabel('Inertia')\n",
    "##### plt.title('Elbow Plot')\n",
    "##### plt.show()\n",
    "- In the above code, X represents the data matrix. The loop iterates over different values of K, fitting the K-Means algorithm for each value of K and storing the inertia values in the inertias list. Finally, the code plots the inertia values against the number of clusters (K) to visualize the elbow plot.\n"
   ]
  },
  {
   "cell_type": "markdown",
   "metadata": {},
   "source": [
    "### 10: What other metric do we have to score the clusters which are formed?\n",
    "\n",
    "Describe the difference between it and inertia."
   ]
  },
  {
   "cell_type": "code",
   "execution_count": null,
   "metadata": {},
   "outputs": [],
   "source": [
    "# call_on_students(1)"
   ]
  },
  {
   "cell_type": "markdown",
   "metadata": {},
   "source": [
    "#### Answer:\n",
    "\n",
    "- Apart from inertia, another commonly used metric to score the quality of clusters is the Silhouette coefficient. The Silhouette coefficient measures the cohesion and separation of clusters by considering both the distances between data points within the same cluster and the distances to points in other clusters. It provides a value between -1 and 1, where a higher value indicates better-defined and well-separated clusters.\n",
    "\n",
    "- The Silhouette coefficient differs from inertia in the following ways:\n",
    "\n",
    "- Interpretation: Inertia is an intra-cluster measure that quantifies the compactness or tightness of clusters by considering the sum of squared distances between data points and their cluster centers. Lower inertia indicates more compact clusters. On the other hand, the Silhouette coefficient is an inter-cluster measure that evaluates the separation between clusters based on both the distance between points within a cluster and the distance to points in other clusters. Higher Silhouette coefficients indicate better-defined and well-separated clusters.\n",
    "\n",
    "- Scale: Inertia is sensitive to the scale of the data since it considers squared distances. Therefore, the choice of scaling can impact the inertia value. The Silhouette coefficient, however, is scale-independent as it operates on normalized distances.\n",
    "\n",
    "- Evaluation: Inertia is often used as an internal evaluation metric for K-Means clustering. The goal is to minimize the inertia by finding the optimal number of clusters. In contrast, the Silhouette coefficient provides a more comprehensive evaluation by considering both the cohesion and separation of clusters. It can be used as an internal metric to compare different clustering algorithms or as an external metric to compare clustering results with known ground truth labels.\n",
    "\n",
    "- The choice between inertia and the Silhouette coefficient depends on the specific requirements of the clustering task. Inertia is simpler to compute and interpret, making it a popular choice for determining the number of clusters. The Silhouette coefficient provides a more nuanced evaluation by considering both intra-cluster and inter-cluster distances, which can be valuable when assessing the quality of cluster assignments.\n"
   ]
  },
  {
   "cell_type": "markdown",
   "metadata": {
    "index": 95
   },
   "source": [
    "## Clustering in Code with Heirarchical Agglomerative Clustering"
   ]
  },
  {
   "cell_type": "markdown",
   "metadata": {
    "index": 96
   },
   "source": [
    "After the above conceptual review of KMeans, let's practice coding with agglomerative clustering.\n",
    "\n",
    "\n",
    "### Set Up"
   ]
  },
  {
   "cell_type": "code",
   "execution_count": null,
   "metadata": {
    "index": 97
   },
   "outputs": [],
   "source": [
    "# New dataset for this section!\n",
    "from sklearn.datasets import load_iris\n",
    "\n",
    "data = load_iris()\n",
    "X = pd.DataFrame(data['data'])"
   ]
  },
  {
   "cell_type": "markdown",
   "metadata": {},
   "source": [
    "### 11: Prepare our Data for Clustering\n",
    "\n",
    "What steps do we need to take to preprocess our data effectively?\n",
    "\n",
    "- Import the necessary libraries:\n",
    "\n",
    "import pandas as pd\n",
    "from sklearn.preprocessing import StandardScaler\n",
    "Load and prepare the data:\n",
    "python\n",
    "\n",
    "from sklearn.datasets import load_iris\n",
    "\n",
    "data = load_iris()\n",
    "X = pd.DataFrame(data['data'])\n",
    "Standardize the features:\n",
    "\n",
    "# Create an instance of StandardScaler\n",
    "scaler = StandardScaler()\n",
    "\n",
    "# Fit the scaler to the data and transform the features\n",
    "X_scaled = scaler.fit_transform(X)\n",
    "\n",
    "- In the above code, we first import the necessary libraries, including pandas and StandardScaler from scikit-learn.\n",
    "\n",
    "- Next, we load the iris dataset using load_iris() and store the features in a pandas DataFrame called X.\n",
    "\n",
    "- To preprocess the data effectively, we use the StandardScaler to standardize the features. This step is important in clustering as it ensures that all variables have the same scale and prevents the dominance of variables with larger ranges.\n",
    "\n",
    "- We create an instance of StandardScaler called scaler. Then, we fit the scaler to the data using the fit_transform() method, which calculates the mean and standard deviation of each feature and scales the features accordingly. The standardized features are stored in X_scaled.\n",
    "\n",
    "- After executing these steps, you will have the preprocessed data (X_scaled) ready for clustering analysis. Remember to import the necessary libraries (pandas, StandardScaler, and load_iris) before running the code.\n"
   ]
  },
  {
   "cell_type": "code",
   "execution_count": null,
   "metadata": {},
   "outputs": [],
   "source": [
    "# call_on_students(1)"
   ]
  },
  {
   "cell_type": "code",
   "execution_count": 12,
   "metadata": {
    "index": 99
   },
   "outputs": [],
   "source": [
    "# Code to preprocess the data\n",
    "# Name the processed data X_processed\n",
    "X_processed = scaler.fit_transform(X)"
   ]
  },
  {
   "cell_type": "markdown",
   "metadata": {},
   "source": [
    "### 12: Import the Relevant Class, Then Instantiate and Fit a Hierarchical Agglomerative Clustering Object\n",
    "\n",
    "Let's use `n_clusters = 2` to start (default)"
   ]
  },
  {
   "cell_type": "code",
   "execution_count": null,
   "metadata": {},
   "outputs": [],
   "source": [
    "# call_on_students(1)"
   ]
  },
  {
   "cell_type": "code",
   "execution_count": 16,
   "metadata": {},
   "outputs": [],
   "source": [
    "# Import the relevent clustering algorithm\n",
    "\n",
    "from sklearn.cluster import AgglomerativeClustering\n",
    "from sklearn.metrics import silhouette_score"
   ]
  },
  {
   "cell_type": "code",
   "execution_count": 17,
   "metadata": {
    "index": 100
   },
   "outputs": [],
   "source": [
    "# Fit the object\n",
    "clustering = AgglomerativeClustering(n_clusters=2)\n"
   ]
  },
  {
   "cell_type": "code",
   "execution_count": 20,
   "metadata": {
    "index": 101
   },
   "outputs": [
    {
     "data": {
      "text/plain": [
       "0.33938477753669855"
      ]
     },
     "execution_count": 20,
     "metadata": {},
     "output_type": "execute_result"
    }
   ],
   "source": [
    "# Calculate a silhouette score\n",
    "labels = clustering.fit_predict(X_processed)\n",
    "silhouette_avg = silhouette_score(X_processed, labels)\n",
    "silhouette_avg"
   ]
  },
  {
   "cell_type": "markdown",
   "metadata": {},
   "source": [
    "### 13: Write a Function to Test Different Options for `n_clusters`\n",
    "\n",
    "The function should take in the number for `n_clusters` and the data to cluster, fit a new clustering model using that parameter to the data, print the silhouette score, then return the labels attribute from the fit clustering model."
   ]
  },
  {
   "cell_type": "code",
   "execution_count": null,
   "metadata": {},
   "outputs": [],
   "source": [
    "# call_on_students(1)"
   ]
  },
  {
   "cell_type": "code",
   "execution_count": 27,
   "metadata": {},
   "outputs": [],
   "source": [
    "def test_n_for_clustering(n, data):\n",
    "    \"\"\" \n",
    "    Tests different numbers for the hyperparameter n_clusters\n",
    "    Prints the silhouette score for that clustering model\n",
    "    Returns the labels that are output from the clustering model\n",
    "\n",
    "    Parameters: \n",
    "    -----------\n",
    "    n: float object\n",
    "        number of clusters to use in the agglomerative clustering model\n",
    "    data: Pandas DataFrame or array-like object\n",
    "        Data to cluster\n",
    "\n",
    "    Returns: \n",
    "    --------\n",
    "    labels: array-like object\n",
    "        Labels attribute from the clustering model\n",
    "    \"\"\"\n",
    "    \n",
    "    clustering = AgglomerativeClustering(n_clusters=n)\n",
    "\n",
    "    \n",
    "    # Fit the new clustering model\n",
    "    labels = clustering.fit_predict(data)\n",
    "    \n",
    "    # Print the silhouette score\n",
    "    silhouette_avg = silhouette_score(data, labels)\n",
    "    print(\"Silhouette score for n_clusters =\", n, \": {:.3f}\".format(silhouette_avg))\n",
    "    # Return the labels attribute from the fit clustering model\n",
    "    return labels\n",
    "\n",
    "    pass"
   ]
  },
  {
   "cell_type": "code",
   "execution_count": 28,
   "metadata": {},
   "outputs": [
    {
     "name": "stdout",
     "output_type": "stream",
     "text": [
      "Silhouette score for n_clusters = 2 : 0.339\n",
      "Silhouette score for n_clusters = 3 : 0.330\n",
      "Silhouette score for n_clusters = 4 : 0.298\n",
      "Silhouette score for n_clusters = 5 : 0.243\n",
      "Silhouette score for n_clusters = 6 : 0.120\n",
      "Silhouette score for n_clusters = 7 : 0.124\n",
      "Silhouette score for n_clusters = 8 : 0.096\n"
     ]
    }
   ],
   "source": [
    "# Testing your function\n",
    "\n",
    "for n in range(2, 9):\n",
    "    test_n_for_clustering(n, X_processed)"
   ]
  },
  {
   "cell_type": "markdown",
   "metadata": {
    "index": 51
   },
   "source": [
    "# 3) Time Series"
   ]
  },
  {
   "cell_type": "code",
   "execution_count": 30,
   "metadata": {
    "index": 52,
    "scrolled": true
   },
   "outputs": [
    {
     "data": {
      "text/html": [
       "<div>\n",
       "<style scoped>\n",
       "    .dataframe tbody tr th:only-of-type {\n",
       "        vertical-align: middle;\n",
       "    }\n",
       "\n",
       "    .dataframe tbody tr th {\n",
       "        vertical-align: top;\n",
       "    }\n",
       "\n",
       "    .dataframe thead th {\n",
       "        text-align: right;\n",
       "    }\n",
       "</style>\n",
       "<table border=\"1\" class=\"dataframe\">\n",
       "  <thead>\n",
       "    <tr style=\"text-align: right;\">\n",
       "      <th></th>\n",
       "      <th>Month</th>\n",
       "      <th>#Passengers</th>\n",
       "    </tr>\n",
       "  </thead>\n",
       "  <tbody>\n",
       "    <tr>\n",
       "      <th>0</th>\n",
       "      <td>1949-01</td>\n",
       "      <td>112</td>\n",
       "    </tr>\n",
       "    <tr>\n",
       "      <th>1</th>\n",
       "      <td>1949-02</td>\n",
       "      <td>118</td>\n",
       "    </tr>\n",
       "    <tr>\n",
       "      <th>2</th>\n",
       "      <td>1949-03</td>\n",
       "      <td>132</td>\n",
       "    </tr>\n",
       "    <tr>\n",
       "      <th>3</th>\n",
       "      <td>1949-04</td>\n",
       "      <td>129</td>\n",
       "    </tr>\n",
       "    <tr>\n",
       "      <th>4</th>\n",
       "      <td>1949-05</td>\n",
       "      <td>121</td>\n",
       "    </tr>\n",
       "  </tbody>\n",
       "</table>\n",
       "</div>"
      ],
      "text/plain": [
       "     Month  #Passengers\n",
       "0  1949-01          112\n",
       "1  1949-02          118\n",
       "2  1949-03          132\n",
       "3  1949-04          129\n",
       "4  1949-05          121"
      ]
     },
     "execution_count": 30,
     "metadata": {},
     "output_type": "execute_result"
    }
   ],
   "source": [
    "# New dataset for this section!\n",
    "ap = pd.read_csv('data/AirPassengers.csv')\n",
    "ap.head()"
   ]
  },
  {
   "cell_type": "markdown",
   "metadata": {},
   "source": [
    "### 14: Prepare our Data for Time Series Analysis\n",
    "\n",
    "What steps do we need to take to preprocess our data effectively?\n",
    "\n",
    "- To preprocess the data effectively for time series analysis, you typically need to perform the following steps:\n",
    "\n",
    "- Import the necessary libraries:\n",
    "\n",
    "- Load and prepare the data:\n",
    "\n",
    "- Visualize the data:\n",
    "\n",
    "- Handle missing values (if any):\n",
    "\n",
    "- Check for stationarity:\n",
    "\n",
    "-  we first import the necessary libraries, including pandas and matplotlib.pyplot for data manipulation and visualization.\n",
    "\n",
    "- We load the time series data from the CSV file using pd.read_csv() and store it in a DataFrame called ap. We convert the 'Month' column to a datetime format using pd.to_datetime() and set it as the index using set_index(). This ensures that the data is treated as a time series.\n",
    "\n",
    "- Next, we visualize the time series by plotting the 'Month' (x-axis) against the '#Passengers' (y-axis) using plt.plot(). This step helps us understand the patterns and trends in the data.\n",
    "\n",
    "- If there are missing values in the data, we can handle them by dropping the rows with missing values using dropna().\n",
    "\n",
    "- To check for stationarity, we use the Augmented Dickey-Fuller test (adfuller()) from the statsmodels.tsa.stattools module. The test helps determine if the time series is stationary or not. We print the ADF statistic, p-value, and critical values. A p-value below a certain significance level (e.g., 0.05) suggests that the time series is stationary.\n",
    "\n",
    "- After executing these steps, you will have preprocessed the data effectively, visualized the time series, handled missing values (if any), and checked for stationarity.\n"
   ]
  },
  {
   "cell_type": "code",
   "execution_count": null,
   "metadata": {},
   "outputs": [],
   "source": [
    "# call_on_students(1)"
   ]
  },
  {
   "cell_type": "code",
   "execution_count": 32,
   "metadata": {},
   "outputs": [
    {
     "data": {
      "image/png": "[encoded data removed]",
      "text/plain": [
       "<Figure size 640x480 with 1 Axes>"
      ]
     },
     "metadata": {},
     "output_type": "display_data"
    },
    {
     "name": "stdout",
     "output_type": "stream",
     "text": [
      "ADF Statistic: 0.8153688792060597\n",
      "p-value: 0.9918802434376411\n",
      "Critical Values:\n",
      "\t 1% : -3.4816817173418295\n",
      "\t 5% : -2.8840418343195267\n",
      "\t 10% : -2.578770059171598\n"
     ]
    }
   ],
   "source": [
    "# Code here \n",
    "import pandas as pd\n",
    "import matplotlib.pyplot as plt\n",
    "\n",
    "\n",
    "ap = pd.read_csv('data/AirPassengers.csv')\n",
    "ap['Month'] = pd.to_datetime(ap['Month'])\n",
    "ap.set_index('Month', inplace=True)\n",
    "\n",
    "plt.plot(ap.index, ap['#Passengers'])\n",
    "plt.xlabel('Time')\n",
    "plt.ylabel('Number of Passengers')\n",
    "plt.title('Air Passengers')\n",
    "plt.show()\n",
    "\n",
    "ap = ap.dropna()  # Drop rows with missing values\n",
    "\n",
    "from statsmodels.tsa.stattools import adfuller\n",
    "\n",
    "result = adfuller(ap['#Passengers'])\n",
    "print('ADF Statistic:', result[0])\n",
    "print('p-value:', result[1])\n",
    "print('Critical Values:')\n",
    "for key, value in result[4].items():\n",
    "    print('\\t', key, ':', value)\n",
    "    \n"
   ]
  },
  {
   "cell_type": "markdown",
   "metadata": {},
   "source": [
    "### 15: Explore Patterns in the Data"
   ]
  },
  {
   "cell_type": "code",
   "execution_count": null,
   "metadata": {},
   "outputs": [],
   "source": [
    "# call_on_students(1)"
   ]
  },
  {
   "cell_type": "markdown",
   "metadata": {},
   "source": [
    "First: what kinds of patterns can one find in time series data?\n",
    "\n",
    "- Trend: A trend represents the long-term movement or direction of the data. It shows whether the data is increasing, decreasing, or following a more complex pattern. Trends can be upward (positive), downward (negative), or stationary (no clear direction).\n",
    "\n",
    "- Seasonality: Seasonality refers to patterns that repeat at fixed intervals or periods within the data. These patterns often occur due to regular and predictable influences such as seasonal variations, holidays, or recurring events. Seasonality can be observed as regular peaks and valleys in the data.\n",
    "\n",
    "- Cyclical: Cyclical patterns are similar to seasonality but do not have fixed and predictable periods. They represent longer-term oscillations that are not necessarily tied to calendar-based seasons. Cyclical patterns can be observed over longer time frames, such as economic cycles or business cycles.\n",
    "\n",
    "- Irregular/Random: Irregular or random patterns refer to unpredictable fluctuations or noise in the data. They represent the residual variation that cannot be explained by trends, seasonality, or cyclical patterns. Irregular patterns may appear as random spikes, drops, or fluctuations around the underlying trend.\n"
   ]
  },
  {
   "cell_type": "markdown",
   "metadata": {},
   "source": [
    "Second, plot this time series data. What kinds of patterns do you see in this dataset?\n",
    "\n",
    "- The pattern is increasing number of passengers over time.\n",
    "\n",
    "- The high and low points grow further apart as time goes on"
   ]
  },
  {
   "cell_type": "code",
   "execution_count": null,
   "metadata": {
    "index": 62
   },
   "outputs": [],
   "source": [
    "# Code to plot the time series\n",
    "\n",
    "import matplotlib.pyplot as plt\n",
    "\n",
    "plt.figure(figsize=(10, 6))\n",
    "plt.plot(ap.index, ap['#Passengers'])\n",
    "plt.xlabel('Time')\n",
    "plt.ylabel('Number of Passengers')\n",
    "plt.title('Air Passengers')\n",
    "plt.show()"
   ]
  },
  {
   "cell_type": "markdown",
   "metadata": {},
   "source": [
    "### 16: Explore the Moving Average\n",
    "\n",
    "What window would make sense to use for this data?\n",
    "\n",
    "- \n"
   ]
  },
  {
   "cell_type": "code",
   "execution_count": null,
   "metadata": {},
   "outputs": [],
   "source": [
    "# call_on_students(1)"
   ]
  },
  {
   "cell_type": "code",
   "execution_count": null,
   "metadata": {},
   "outputs": [],
   "source": [
    "# Code to create the moving average"
   ]
  },
  {
   "cell_type": "code",
   "execution_count": null,
   "metadata": {
    "index": 67
   },
   "outputs": [],
   "source": [
    "# Add to the moving average to the above plot"
   ]
  },
  {
   "cell_type": "markdown",
   "metadata": {},
   "source": [
    "### 17: Explore Stationarity\n"
   ]
  },
  {
   "cell_type": "code",
   "execution_count": null,
   "metadata": {},
   "outputs": [],
   "source": [
    "# call_on_students(1)"
   ]
  },
  {
   "cell_type": "markdown",
   "metadata": {
    "index": 69
   },
   "source": [
    "Why do we try to make our data stationary?\n",
    "\n",
    "- \n"
   ]
  },
  {
   "cell_type": "markdown",
   "metadata": {
    "index": 69
   },
   "source": [
    "What can we do to make our data stationary?\n",
    "\n",
    "- \n"
   ]
  },
  {
   "cell_type": "markdown",
   "metadata": {},
   "source": [
    "### 18: Check Stationarity"
   ]
  },
  {
   "cell_type": "code",
   "execution_count": null,
   "metadata": {},
   "outputs": [],
   "source": [
    "# call_on_students(1)"
   ]
  },
  {
   "cell_type": "code",
   "execution_count": null,
   "metadata": {
    "index": 80
   },
   "outputs": [],
   "source": [
    "# Code here to check if the data is stationary"
   ]
  },
  {
   "cell_type": "markdown",
   "metadata": {},
   "source": [
    "### 19: Try to Make the Data Stationarity\n",
    "\n",
    "Implement one strategy to try to make the data more stationary, then check if it worked."
   ]
  },
  {
   "cell_type": "code",
   "execution_count": null,
   "metadata": {},
   "outputs": [],
   "source": [
    "# call_on_students(1)"
   ]
  },
  {
   "cell_type": "code",
   "execution_count": null,
   "metadata": {
    "index": 73
   },
   "outputs": [],
   "source": [
    "# Code here to try to make the data stationary"
   ]
  },
  {
   "cell_type": "code",
   "execution_count": null,
   "metadata": {},
   "outputs": [],
   "source": [
    "# Code here to check if the data is stationary"
   ]
  },
  {
   "cell_type": "markdown",
   "metadata": {
    "index": 82
   },
   "source": [
    "<a id='clust'></a>"
   ]
  },
  {
   "cell_type": "markdown",
   "metadata": {
    "index": 23
   },
   "source": [
    "# 4) Natural Language Processing"
   ]
  },
  {
   "cell_type": "markdown",
   "metadata": {},
   "source": [
    "## NLP Concepts\n",
    "\n",
    "### Some Example Text"
   ]
  },
  {
   "cell_type": "code",
   "execution_count": null,
   "metadata": {
    "index": 24
   },
   "outputs": [],
   "source": [
    "# Each sentence is a document\n",
    "sentence_one = \"Harry Potter is the best young adult book about wizards\"\n",
    "sentence_two = \"Um, EXCUSE ME! Ever heard of Earth Sea?\"\n",
    "sentence_three = \"I only like to read non-fiction.  It makes me a better person.\"\n",
    "\n",
    "# The corpus is composed of all of the documents\n",
    "corpus = [sentence_one, sentence_two, sentence_three]"
   ]
  },
  {
   "cell_type": "markdown",
   "metadata": {},
   "source": [
    "### 20: NLP Pre-processing\n",
    "\n",
    "List at least three steps you can take to turn raw text like this into something that would be semantically valuable (aka ready to turn into numbers):"
   ]
  },
  {
   "cell_type": "code",
   "execution_count": null,
   "metadata": {},
   "outputs": [],
   "source": [
    "# call_on_students(1)"
   ]
  },
  {
   "cell_type": "markdown",
   "metadata": {
    "index": 25
   },
   "source": [
    "#### Answer:\n",
    "\n",
    "1.  \n",
    "2. \n",
    "3. "
   ]
  },
  {
   "cell_type": "markdown",
   "metadata": {},
   "source": [
    "### 21: Describe what vectorized text would look like as a dataframe.\n",
    "\n",
    "If you vectorize the above corpus, what would the rows and columns be in the resulting dataframe (aka document term matrix)"
   ]
  },
  {
   "cell_type": "code",
   "execution_count": null,
   "metadata": {},
   "outputs": [],
   "source": [
    "# call_on_students(1)"
   ]
  },
  {
   "cell_type": "markdown",
   "metadata": {
    "index": 25
   },
   "source": [
    "#### Answer:\n",
    "\n",
    "- \n"
   ]
  },
  {
   "cell_type": "markdown",
   "metadata": {},
   "source": [
    "### 22: What does TF-IDF do?\n",
    "\n",
    "Also, what does TF-IDF stand for?"
   ]
  },
  {
   "cell_type": "code",
   "execution_count": null,
   "metadata": {},
   "outputs": [],
   "source": [
    "# call_on_students(1)"
   ]
  },
  {
   "cell_type": "markdown",
   "metadata": {
    "index": 25
   },
   "source": [
    "#### Answer:\n",
    "\n",
    "- \n"
   ]
  },
  {
   "cell_type": "markdown",
   "metadata": {
    "index": 33
   },
   "source": [
    "## NLP in Code\n",
    "\n",
    "### Set Up"
   ]
  },
  {
   "cell_type": "code",
   "execution_count": null,
   "metadata": {
    "index": 34
   },
   "outputs": [],
   "source": [
    "# New section, new data\n",
    "policies = pd.read_csv('data/2020_policies_feb_24.csv')\n",
    "\n",
    "def warren_not_warren(label):\n",
    "    \n",
    "    '''Make label a binary between Elizabeth Warren\n",
    "    speeches and speeches from all other candidates'''\n",
    "    \n",
    "    if label =='warren':\n",
    "        return 1\n",
    "    else:\n",
    "        return 0\n",
    "    \n",
    "policies['candidate'] = policies['candidate'].apply(warren_not_warren)"
   ]
  },
  {
   "cell_type": "markdown",
   "metadata": {
    "index": 35
   },
   "source": [
    "The dataframe loaded above consists of policies of 2020 Democratic presidential hopefuls. The `policy` column holds text describing the policies themselves.  The `candidate` column indicates whether it was or was not an Elizabeth Warren policy."
   ]
  },
  {
   "cell_type": "code",
   "execution_count": null,
   "metadata": {
    "index": 36
   },
   "outputs": [],
   "source": [
    "policies.head()"
   ]
  },
  {
   "cell_type": "markdown",
   "metadata": {
    "index": 37
   },
   "source": [
    "The documents for activity are in the `policy` column, and the target is candidate. "
   ]
  },
  {
   "cell_type": "markdown",
   "metadata": {},
   "source": [
    "### 23: Import the Relevant Class, Then Instantiate and Fit a Count Vectorizer Object"
   ]
  },
  {
   "cell_type": "code",
   "execution_count": null,
   "metadata": {},
   "outputs": [],
   "source": [
    "# call_on_students(1)"
   ]
  },
  {
   "cell_type": "code",
   "execution_count": null,
   "metadata": {},
   "outputs": [],
   "source": [
    "# First! Train-test split the dataset\n",
    "from sklearn.model_selection import train_test_split\n",
    "\n",
    "# Code here to train test split"
   ]
  },
  {
   "cell_type": "code",
   "execution_count": null,
   "metadata": {},
   "outputs": [],
   "source": [
    "# Import the relevant vectorizer"
   ]
  },
  {
   "cell_type": "code",
   "execution_count": null,
   "metadata": {},
   "outputs": [],
   "source": [
    "# Instantiate it"
   ]
  },
  {
   "cell_type": "code",
   "execution_count": null,
   "metadata": {},
   "outputs": [],
   "source": [
    "# Fit it"
   ]
  },
  {
   "cell_type": "markdown",
   "metadata": {},
   "source": [
    "### 24: Vectorize Your Text, Then Model"
   ]
  },
  {
   "cell_type": "code",
   "execution_count": null,
   "metadata": {},
   "outputs": [],
   "source": [
    "# call_on_students(1)"
   ]
  },
  {
   "cell_type": "code",
   "execution_count": null,
   "metadata": {
    "index": 42
   },
   "outputs": [],
   "source": [
    "# Code here to transform train and test sets with the vectorizer"
   ]
  },
  {
   "cell_type": "code",
   "execution_count": null,
   "metadata": {
    "index": 44
   },
   "outputs": [],
   "source": [
    "# Importing the classifier...\n",
    "from sklearn.ensemble import RandomForestClassifier\n",
    "\n",
    "# Code here to instantiate and fit a Random Forest model\n"
   ]
  },
  {
   "cell_type": "code",
   "execution_count": null,
   "metadata": {},
   "outputs": [],
   "source": [
    "# Code here to evaluate your model on the test set"
   ]
  }
 ],
 "metadata": {
  "kernelspec": {
   "display_name": "FullUpdated",
   "language": "python",
   "name": "fullupdated"
  },
  "language_info": {
   "codemirror_mode": {
    "name": "ipython",
    "version": 3
   },
   "file_extension": ".py",
   "mimetype": "text/x-python",
   "name": "python",
   "nbconvert_exporter": "python",
   "pygments_lexer": "ipython3",
   "version": "3.10.11"
  },
  "toc": {
   "base_numbering": 1,
   "nav_menu": {},
   "number_sections": true,
   "sideBar": true,
   "skip_h1_title": false,
   "title_cell": "Table of Contents",
   "title_sidebar": "Contents",
   "toc_cell": false,
   "toc_position": {},
   "toc_section_display": true,
   "toc_window_display": false
  },
  "varInspector": {
   "cols": {
    "lenName": 16,
    "lenType": 16,
    "lenVar": 40
   },
   "kernels_config": {
    "python": {
     "delete_cmd_postfix": "",
     "delete_cmd_prefix": "del ",
     "library": "var_list.py",
     "varRefreshCmd": "print(var_dic_list())"
    },
    "r": {
     "delete_cmd_postfix": ") ",
     "delete_cmd_prefix": "rm(",
     "library": "var_list.r",
     "varRefreshCmd": "cat(var_dic_list()) "
    }
   },
   "types_to_exclude": [
    "module",
    "function",
    "builtin_function_or_method",
    "instance",
    "_Feature"
   ],
   "window_display": false
  }
 },
 "nbformat": 4,
 "nbformat_minor": 4
}
